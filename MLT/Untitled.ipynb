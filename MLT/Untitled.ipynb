{
 "cells": [
  {
   "cell_type": "code",
   "execution_count": 15,
   "id": "95ae1c30-cd95-474f-98e5-cb0afdc3a4bc",
   "metadata": {},
   "outputs": [
    {
     "name": "stdout",
     "output_type": "stream",
     "text": [
      "    Alcohol  Malic_Acid       Ash  Ash_Alcanity  Magnesium  Total_Phenols  \\\n",
      "0  0.842105    0.191700  0.572193      0.257732   0.619565       0.627586   \n",
      "1  0.571053    0.205534  0.417112      0.030928   0.326087       0.575862   \n",
      "2  0.560526    0.320158  0.700535      0.412371   0.336957       0.627586   \n",
      "3  0.878947    0.239130  0.609626      0.319588   0.467391       0.989655   \n",
      "4  0.581579    0.365613  0.807487      0.536082   0.521739       0.627586   \n",
      "\n",
      "   Flavanoids  Nonflavanoid_Phenols  Proanthocyanins  Color_Intensity  \\\n",
      "0    0.573840              0.283019         0.593060         0.372014   \n",
      "1    0.510549              0.245283         0.274448         0.264505   \n",
      "2    0.611814              0.320755         0.757098         0.375427   \n",
      "3    0.664557              0.207547         0.558360         0.556314   \n",
      "4    0.495781              0.490566         0.444795         0.259386   \n",
      "\n",
      "        Hue     OD280   Proline  \n",
      "0  0.455285  0.970696  0.561341  \n",
      "1  0.463415  0.780220  0.550642  \n",
      "2  0.447154  0.695971  0.646933  \n",
      "3  0.308943  0.798535  0.857347  \n",
      "4  0.455285  0.608059  0.325963  \n"
     ]
    }
   ],
   "source": [
    "import pandas as pd\n",
    "from sklearn.preprocessing import MinMaxScaler\n",
    "df = pd.read_csv(\"wine-clustering.csv\")\n",
    "for column in df.columns:\n",
    "     if df[column].dtype == 'object': # Categorical column\n",
    "         df[column].fillna(df[column].mode()[0], inplace=True)\n",
    "     else:\n",
    "        df[column].fillna(df[column].mean(), inplace=True)\n",
    "# Normalize numerical features\n",
    "scaler = MinMaxScaler()\n",
    "num_cols = df.select_dtypes(include=['number']).columns\n",
    "df[num_cols] = scaler.fit_transform(df[num_cols])\n",
    "print(df.head())\n"
   ]
  },
  {
   "cell_type": "code",
   "execution_count": 11,
   "id": "fd95fde1-653f-4d8f-9dd8-a9ec04ae5a36",
   "metadata": {},
   "outputs": [
    {
     "name": "stdout",
     "output_type": "stream",
     "text": [
      "   Alcohol  Malic_Acid   Ash  Ash_Alcanity  Magnesium  Total_Phenols  \\\n",
      "0    14.23        1.71  2.43          15.6        127           2.80   \n",
      "1    13.20        1.78  2.14          11.2        100           2.65   \n",
      "2    13.16        2.36  2.67          18.6        101           2.80   \n",
      "3    14.37        1.95  2.50          16.8        113           3.85   \n",
      "4    13.24        2.59  2.87          21.0        118           2.80   \n",
      "\n",
      "   Flavanoids  Nonflavanoid_Phenols  Proanthocyanins  Color_Intensity   Hue  \\\n",
      "0        3.06                  0.28             2.29             5.64  1.04   \n",
      "1        2.76                  0.26             1.28             4.38  1.05   \n",
      "2        3.24                  0.30             2.81             5.68  1.03   \n",
      "3        3.49                  0.24             2.18             7.80  0.86   \n",
      "4        2.69                  0.39             1.82             4.32  1.04   \n",
      "\n",
      "   OD280  Proline  \n",
      "0   3.92     1065  \n",
      "1   3.40     1050  \n",
      "2   3.17     1185  \n",
      "3   3.45     1480  \n",
      "4   2.93      735  \n"
     ]
    }
   ],
   "source": [
    "import pandas as pd\n",
    "from sklearn.preprocessing import LabelEncoder, MinMaxScaler\n",
    "df = pd.read_csv(\"wine-clustering.csv\")\n",
    "df.fillna(df.mean(numeric_only=True), inplace=True)\n",
    "df.fillna(df.mode().iloc[0], inplace=True)\n",
    "# Apply Label Encoding\n",
    "for col in df.select_dtypes(include=['object']):\n",
    " df[col] = LabelEncoder().fit_transform(df[col])\n",
    "print(df.head())\n"
   ]
  },
  {
   "cell_type": "code",
   "execution_count": 14,
   "id": "e1efeca3-59d9-4ec8-946f-ad6356cc2c99",
   "metadata": {},
   "outputs": [
    {
     "ename": "NameError",
     "evalue": "name 'X' is not defined",
     "output_type": "error",
     "traceback": [
      "\u001b[1;31m---------------------------------------------------------------------------\u001b[0m",
      "\u001b[1;31mNameError\u001b[0m                                 Traceback (most recent call last)",
      "Cell \u001b[1;32mIn[14], line 2\u001b[0m\n\u001b[0;32m      1\u001b[0m \u001b[38;5;28;01mfrom\u001b[39;00m \u001b[38;5;21;01mscipy\u001b[39;00m\u001b[38;5;21;01m.\u001b[39;00m\u001b[38;5;21;01mcluster\u001b[39;00m\u001b[38;5;21;01m.\u001b[39;00m\u001b[38;5;21;01mhierarchy\u001b[39;00m \u001b[38;5;28;01mimport\u001b[39;00m dendrogram, linkage\n\u001b[1;32m----> 2\u001b[0m Z \u001b[38;5;241m=\u001b[39m linkage(\u001b[43mX\u001b[49m, \u001b[38;5;124m'\u001b[39m\u001b[38;5;124mward\u001b[39m\u001b[38;5;124m'\u001b[39m)\n\u001b[0;32m      3\u001b[0m dendrogram(Z)\n\u001b[0;32m      4\u001b[0m plt\u001b[38;5;241m.\u001b[39mtitle(\u001b[38;5;124m'\u001b[39m\u001b[38;5;124mHierarchical Clustering Dendrogram\u001b[39m\u001b[38;5;124m'\u001b[39m)\n",
      "\u001b[1;31mNameError\u001b[0m: name 'X' is not defined"
     ]
    }
   ],
   "source": [
    "from scipy.cluster.hierarchy import dendrogram, linkage\n",
    "Z = linkage(X, 'ward')\n",
    "dendrogram(Z)\n",
    "plt.title('Hierarchical Clustering Dendrogram')\n",
    "plt.xlabel('Data point')\n",
    "plt.ylabel('Distance')\n",
    "plt.show()"
   ]
  },
  {
   "cell_type": "code",
   "execution_count": null,
   "id": "ee338a4b-d2fb-499a-85d9-da384aeaca91",
   "metadata": {},
   "outputs": [],
   "source": []
  }
 ],
 "metadata": {
  "kernelspec": {
   "display_name": "Python 3 (ipykernel)",
   "language": "python",
   "name": "python3"
  },
  "language_info": {
   "codemirror_mode": {
    "name": "ipython",
    "version": 3
   },
   "file_extension": ".py",
   "mimetype": "text/x-python",
   "name": "python",
   "nbconvert_exporter": "python",
   "pygments_lexer": "ipython3",
   "version": "3.9.10"
  }
 },
 "nbformat": 4,
 "nbformat_minor": 5
}
