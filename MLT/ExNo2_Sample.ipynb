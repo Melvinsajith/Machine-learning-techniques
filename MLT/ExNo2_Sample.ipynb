{
 "cells": [
  {
   "cell_type": "markdown",
   "id": "65ed1a4e-9baf-4066-b87d-841b799211f1",
   "metadata": {
    "id": "65ed1a4e-9baf-4066-b87d-841b799211f1"
   },
   "source": [
    "<h2> <b>ExNo:2</b> </h2>\n",
    "<h2><b>Date: 11-01-2024</b></h2>\n",
    "<h2><b><center> FEATURE SELECTION AND FEATURE EXTRACTION </center></b> </h2>    "
   ]
  },
  {
   "cell_type": "markdown",
   "id": "aafc7b1a-c4bd-4337-934f-d6e5ebc53304",
   "metadata": {
    "id": "aafc7b1a-c4bd-4337-934f-d6e5ebc53304",
    "tags": []
   },
   "source": [
    "<h3> AIM </h3>"
   ]
  },
  {
   "cell_type": "markdown",
   "id": "9129976f-fbc2-46bc-8e82-c32bc19dbf1e",
   "metadata": {
    "id": "9129976f-fbc2-46bc-8e82-c32bc19dbf1e",
    "tags": []
   },
   "source": [
    "<p>To implement feature selection and feature extraction techniques on a given dataset.</p>"
   ]
  },
  {
   "cell_type": "markdown",
   "id": "0cf96e99-fb73-4161-933b-bd35d9e2e077",
   "metadata": {
    "id": "0cf96e99-fb73-4161-933b-bd35d9e2e077"
   },
   "source": [
    "<h3> Description </h3>"
   ]
  },
  {
   "cell_type": "markdown",
   "id": "25a22933-f251-462b-bc66-a529c4ffaf4b",
   "metadata": {
    "id": "25a22933-f251-462b-bc66-a529c4ffaf4b"
   },
   "source": [
    "<h4> Feature Selection: </h4>"
   ]
  },
  {
   "cell_type": "markdown",
   "id": "9dbc6ca7-e4ff-4516-a5e7-46e893a26d08",
   "metadata": {
    "id": "9dbc6ca7-e4ff-4516-a5e7-46e893a26d08"
   },
   "source": [
    "<p> Process of selecting a subset of relevant features from the original features to reducemodel complexity, enhance the computational efficiency of the models and reduce generalization error introduced dur to noise by irrelevant features.</p>\n",
    "\n",
    "* Methods\n",
    "    * Remove unused columns\n",
    "    * Remove column with outlier\n",
    "    - Remove features with missing values\n",
    "    - Remove features with low variance\n",
    "    - Removeuncorrelatedfeatureswithtarget\n",
    "    - Remove highly correlated features – Multicollinearity o Univariatefeatureselection\n",
    "    - Informationgain-basedfeatureselection\n",
    "* Univariate Feature Selection\n",
    "    * Statistical tests can help to select independent features that have the strongestrelationship with the target feature\n",
    "    * The Scikit-learn library provides the SelectKBest class that can be used with asuite of different statistical tests to select a specific number of features.\n",
    "* Information gain-based feature selection\n",
    "    * It calculates mutual information value for each of independent variables respectto dependent variable, and selects the ones which has most information gain.\n",
    "    * It basically measures the dependency of features with the target value."
   ]
  },
  {
   "cell_type": "markdown",
   "id": "c61926ad-0272-40ab-8147-4ee93be626a2",
   "metadata": {
    "id": "c61926ad-0272-40ab-8147-4ee93be626a2"
   },
   "source": [
    "<h4> FEATURE EXTRACTION:</h4>"
   ]
  },
  {
   "cell_type": "markdown",
   "id": "cfe341d6-c075-4b2a-8937-a478336b7232",
   "metadata": {
    "id": "cfe341d6-c075-4b2a-8937-a478336b7232"
   },
   "source": [
    "* Feature extraction refers to the process of transforming original features into a newset of features that preserve the information in the original data set.\n",
    "* It yields better results than applying machine learning directly to the raw data.\n",
    "* Principal Component Analysis\n",
    "    * PCA is a dimensionality reduction technique that enables you to identify correlations and patterns in the data set so that it can be transformed into a data set of significantly lower dimension without loss of important information.\n",
    "* Linear Discriminant Analysis\n",
    "    * PCA is an unsupervised dimensionality reduction technique while LDA is a supervised dimensionality reduction technique.\n",
    "    * PCA summarizes the feature set without relying on the output.\n",
    "    * LDA tries to reduce dimensions of the feature set while retaining the information."
   ]
  },
  {
   "cell_type": "markdown",
   "id": "d6a4d042-3ea1-4688-8d45-e20511384712",
   "metadata": {
    "id": "d6a4d042-3ea1-4688-8d45-e20511384712"
   },
   "source": [
    "<h4> DATA REDUCTION:</h4>"
   ]
  },
  {
   "cell_type": "markdown",
   "id": "f2ac609a-98d6-4609-9729-6336c8fbb04a",
   "metadata": {
    "id": "f2ac609a-98d6-4609-9729-6336c8fbb04a"
   },
   "source": [
    "Data reduction techniques can be applied to obtain a reduced representation of the data set that is much smaller in volume, yet closely maintains the integrity of the original data.\n",
    "    \n",
    "* Dimensionality reduction, numerosity reduction, data compression.\n",
    "* Feature selection and Feature extraction\n",
    "* Drop missing values\n",
    "* Drop the outliers\n",
    "* Drop duplicates"
   ]
  },
  {
   "cell_type": "markdown",
   "id": "cb3dd40a-6fcc-413d-847d-10a61b7e0161",
   "metadata": {
    "id": "cb3dd40a-6fcc-413d-847d-10a61b7e0161"
   },
   "source": [
    "<h4> DIMENSIONALITY REDUCTION:</h4>"
   ]
  },
  {
   "cell_type": "markdown",
   "id": "6ab48c66-108d-484e-bf3c-898b8a2c440c",
   "metadata": {
    "id": "6ab48c66-108d-484e-bf3c-898b8a2c440c"
   },
   "source": [
    "Feature extraction refers to the process of transforming raw data into numerical features that can be processed while preserving the information in the original data set. It yields better results than applying machine learning directly to the raw data. One-Hot encoding – creates additional features based on the number of unique values in the categorical feature, create dummy variables.\n",
    "\n",
    "There are various methods to reduce the dimensionality of the data:\n",
    "    \n",
    "1. Feature Selection Methods: Using Correlation Coefficient Methods 2. Matrix Factorization: PCA\n",
    "3. Manifold Learning: t-SNE\n",
    "4. Auto Encoders"
   ]
  },
  {
   "cell_type": "markdown",
   "id": "4de7af9f-a689-424f-ae1b-6dc3c388a43a",
   "metadata": {
    "id": "4de7af9f-a689-424f-ae1b-6dc3c388a43a"
   },
   "source": [
    "<h4> Correlation Coefficient Methods: </h4>"
   ]
  },
  {
   "cell_type": "markdown",
   "id": "dd0eceb1-6901-4deb-814a-98b686e3561b",
   "metadata": {
    "id": "dd0eceb1-6901-4deb-814a-98b686e3561b"
   },
   "source": [
    "Some of the datasets have a large number of features, and only some of these features are correlated with the target class label. Feature selection techniques use scoring or statistical methods to select which features to keep and which features to delete.\n",
    "\n",
    "Techniques or algorithms used to reduce dimensions by Correlation Coefficient Methods are:\n",
    "1. Pearson Correlation Coefficient\n",
    "2. Spearman Correlation Coefficient\n",
    "3. Chi-Squared Test\n",
    "4. Kendall Tau Test"
   ]
  },
  {
   "cell_type": "markdown",
   "id": "9bd8e926-d202-42ce-9135-022d2c398b4c",
   "metadata": {
    "id": "9bd8e926-d202-42ce-9135-022d2c398b4c"
   },
   "source": [
    "<h4> Matrix Factorization:</h4>"
   ]
  },
  {
   "cell_type": "markdown",
   "id": "6d773a34-73ce-4242-ac17-1d169d848814",
   "metadata": {
    "id": "6d773a34-73ce-4242-ac17-1d169d848814"
   },
   "source": [
    "Matrix Factorization methods can be used for dimension reduction. Principal Component Analysis (PCA) is a matrix factorization technique to reduce higher dimension data to lower dimensions. PCA preserves the direction with maximal variance."
   ]
  },
  {
   "cell_type": "markdown",
   "id": "a64de6f5-c410-46db-a344-a17778ea38a5",
   "metadata": {
    "id": "a64de6f5-c410-46db-a344-a17778ea38a5"
   },
   "source": [
    "<h4> Steps to follow for PCA:</h4>"
   ]
  },
  {
   "cell_type": "markdown",
   "id": "090db3eb-12e6-4892-97b0-337200aa3c0a",
   "metadata": {
    "id": "090db3eb-12e6-4892-97b0-337200aa3c0a"
   },
   "source": [
    "1. Given dataset X of shape (n-rows, d-features)\n",
    "2. Standardize the dataset X\n",
    "3. Compute covariance matrix (S)\n",
    "4. Find eigenvalues and eigenvector from the covariance matrix.\n",
    "5. To pick top f features, pick the eigenvectors having corresponding top x largest eigenvalues."
   ]
  },
  {
   "cell_type": "markdown",
   "id": "0e74864d-d589-4f64-a898-19a6f919fdd5",
   "metadata": {
    "id": "0e74864d-d589-4f64-a898-19a6f919fdd5"
   },
   "source": [
    "<h3> Q1: Read and analyze the data </h3>"
   ]
  },
  {
   "cell_type": "code",
   "execution_count": 56,
   "id": "54d98dfe-c3a1-4f09-bffd-0373bba21f73",
   "metadata": {
    "id": "54d98dfe-c3a1-4f09-bffd-0373bba21f73",
    "outputId": "79e39b11-60e2-4ca2-94cc-69321c00dc31"
   },
   "outputs": [
    {
     "data": {
      "text/html": [
       "<div>\n",
       "<style scoped>\n",
       "    .dataframe tbody tr th:only-of-type {\n",
       "        vertical-align: middle;\n",
       "    }\n",
       "\n",
       "    .dataframe tbody tr th {\n",
       "        vertical-align: top;\n",
       "    }\n",
       "\n",
       "    .dataframe thead th {\n",
       "        text-align: right;\n",
       "    }\n",
       "</style>\n",
       "<table border=\"1\" class=\"dataframe\">\n",
       "  <thead>\n",
       "    <tr style=\"text-align: right;\">\n",
       "      <th></th>\n",
       "      <th>ApplicantIncome</th>\n",
       "      <th>CoapplicantIncome</th>\n",
       "      <th>LoanAmount</th>\n",
       "      <th>Loan_Amount_Term</th>\n",
       "      <th>Credit_History</th>\n",
       "    </tr>\n",
       "  </thead>\n",
       "  <tbody>\n",
       "    <tr>\n",
       "      <th>count</th>\n",
       "      <td>614.000000</td>\n",
       "      <td>614.000000</td>\n",
       "      <td>592.000000</td>\n",
       "      <td>600.00000</td>\n",
       "      <td>564.000000</td>\n",
       "    </tr>\n",
       "    <tr>\n",
       "      <th>mean</th>\n",
       "      <td>5403.459283</td>\n",
       "      <td>1621.245798</td>\n",
       "      <td>146.412162</td>\n",
       "      <td>342.00000</td>\n",
       "      <td>0.842199</td>\n",
       "    </tr>\n",
       "    <tr>\n",
       "      <th>std</th>\n",
       "      <td>6109.041673</td>\n",
       "      <td>2926.248369</td>\n",
       "      <td>85.587325</td>\n",
       "      <td>65.12041</td>\n",
       "      <td>0.364878</td>\n",
       "    </tr>\n",
       "    <tr>\n",
       "      <th>min</th>\n",
       "      <td>150.000000</td>\n",
       "      <td>0.000000</td>\n",
       "      <td>9.000000</td>\n",
       "      <td>12.00000</td>\n",
       "      <td>0.000000</td>\n",
       "    </tr>\n",
       "    <tr>\n",
       "      <th>25%</th>\n",
       "      <td>2877.500000</td>\n",
       "      <td>0.000000</td>\n",
       "      <td>100.000000</td>\n",
       "      <td>360.00000</td>\n",
       "      <td>1.000000</td>\n",
       "    </tr>\n",
       "    <tr>\n",
       "      <th>50%</th>\n",
       "      <td>3812.500000</td>\n",
       "      <td>1188.500000</td>\n",
       "      <td>128.000000</td>\n",
       "      <td>360.00000</td>\n",
       "      <td>1.000000</td>\n",
       "    </tr>\n",
       "    <tr>\n",
       "      <th>75%</th>\n",
       "      <td>5795.000000</td>\n",
       "      <td>2297.250000</td>\n",
       "      <td>168.000000</td>\n",
       "      <td>360.00000</td>\n",
       "      <td>1.000000</td>\n",
       "    </tr>\n",
       "    <tr>\n",
       "      <th>max</th>\n",
       "      <td>81000.000000</td>\n",
       "      <td>41667.000000</td>\n",
       "      <td>700.000000</td>\n",
       "      <td>480.00000</td>\n",
       "      <td>1.000000</td>\n",
       "    </tr>\n",
       "  </tbody>\n",
       "</table>\n",
       "</div>"
      ],
      "text/plain": [
       "       ApplicantIncome  CoapplicantIncome  LoanAmount  Loan_Amount_Term  \\\n",
       "count       614.000000         614.000000  592.000000         600.00000   \n",
       "mean       5403.459283        1621.245798  146.412162         342.00000   \n",
       "std        6109.041673        2926.248369   85.587325          65.12041   \n",
       "min         150.000000           0.000000    9.000000          12.00000   \n",
       "25%        2877.500000           0.000000  100.000000         360.00000   \n",
       "50%        3812.500000        1188.500000  128.000000         360.00000   \n",
       "75%        5795.000000        2297.250000  168.000000         360.00000   \n",
       "max       81000.000000       41667.000000  700.000000         480.00000   \n",
       "\n",
       "       Credit_History  \n",
       "count      564.000000  \n",
       "mean         0.842199  \n",
       "std          0.364878  \n",
       "min          0.000000  \n",
       "25%          1.000000  \n",
       "50%          1.000000  \n",
       "75%          1.000000  \n",
       "max          1.000000  "
      ]
     },
     "execution_count": 56,
     "metadata": {},
     "output_type": "execute_result"
    }
   ],
   "source": [
    "#code\n",
    "import pandas as pd\n",
    "df = pd.read_csv(\"Loan.csv\")\n",
    "df.head()\n",
    "df.describe()"
   ]
  },
  {
   "cell_type": "code",
   "execution_count": 3,
   "id": "20e27b1e",
   "metadata": {
    "id": "20e27b1e",
    "outputId": "b54efbeb-123b-4159-8627-7289c926a370"
   },
   "outputs": [
    {
     "data": {
      "text/html": [
       "<div>\n",
       "<style scoped>\n",
       "    .dataframe tbody tr th:only-of-type {\n",
       "        vertical-align: middle;\n",
       "    }\n",
       "\n",
       "    .dataframe tbody tr th {\n",
       "        vertical-align: top;\n",
       "    }\n",
       "\n",
       "    .dataframe thead th {\n",
       "        text-align: right;\n",
       "    }\n",
       "</style>\n",
       "<table border=\"1\" class=\"dataframe\">\n",
       "  <thead>\n",
       "    <tr style=\"text-align: right;\">\n",
       "      <th></th>\n",
       "      <th>Loan_ID</th>\n",
       "      <th>Gender</th>\n",
       "      <th>Married</th>\n",
       "      <th>Dependents</th>\n",
       "      <th>Education</th>\n",
       "      <th>Self_Employed</th>\n",
       "      <th>ApplicantIncome</th>\n",
       "      <th>CoapplicantIncome</th>\n",
       "      <th>LoanAmount</th>\n",
       "      <th>Loan_Amount_Term</th>\n",
       "      <th>Credit_History</th>\n",
       "      <th>Property_Area</th>\n",
       "      <th>Loan_Status</th>\n",
       "    </tr>\n",
       "  </thead>\n",
       "  <tbody>\n",
       "    <tr>\n",
       "      <th>0</th>\n",
       "      <td>LP001002</td>\n",
       "      <td>Male</td>\n",
       "      <td>No</td>\n",
       "      <td>0</td>\n",
       "      <td>Graduate</td>\n",
       "      <td>No</td>\n",
       "      <td>5849</td>\n",
       "      <td>0.0</td>\n",
       "      <td>NaN</td>\n",
       "      <td>360.0</td>\n",
       "      <td>1.0</td>\n",
       "      <td>Urban</td>\n",
       "      <td>Y</td>\n",
       "    </tr>\n",
       "    <tr>\n",
       "      <th>1</th>\n",
       "      <td>LP001003</td>\n",
       "      <td>Male</td>\n",
       "      <td>Yes</td>\n",
       "      <td>1</td>\n",
       "      <td>Graduate</td>\n",
       "      <td>No</td>\n",
       "      <td>4583</td>\n",
       "      <td>1508.0</td>\n",
       "      <td>128.0</td>\n",
       "      <td>360.0</td>\n",
       "      <td>1.0</td>\n",
       "      <td>Rural</td>\n",
       "      <td>N</td>\n",
       "    </tr>\n",
       "    <tr>\n",
       "      <th>2</th>\n",
       "      <td>LP001005</td>\n",
       "      <td>Male</td>\n",
       "      <td>Yes</td>\n",
       "      <td>0</td>\n",
       "      <td>Graduate</td>\n",
       "      <td>Yes</td>\n",
       "      <td>3000</td>\n",
       "      <td>0.0</td>\n",
       "      <td>66.0</td>\n",
       "      <td>360.0</td>\n",
       "      <td>1.0</td>\n",
       "      <td>Urban</td>\n",
       "      <td>Y</td>\n",
       "    </tr>\n",
       "    <tr>\n",
       "      <th>3</th>\n",
       "      <td>LP001006</td>\n",
       "      <td>Male</td>\n",
       "      <td>Yes</td>\n",
       "      <td>0</td>\n",
       "      <td>Not Graduate</td>\n",
       "      <td>No</td>\n",
       "      <td>2583</td>\n",
       "      <td>2358.0</td>\n",
       "      <td>120.0</td>\n",
       "      <td>360.0</td>\n",
       "      <td>1.0</td>\n",
       "      <td>Urban</td>\n",
       "      <td>Y</td>\n",
       "    </tr>\n",
       "    <tr>\n",
       "      <th>4</th>\n",
       "      <td>LP001008</td>\n",
       "      <td>Male</td>\n",
       "      <td>No</td>\n",
       "      <td>0</td>\n",
       "      <td>Graduate</td>\n",
       "      <td>No</td>\n",
       "      <td>6000</td>\n",
       "      <td>0.0</td>\n",
       "      <td>141.0</td>\n",
       "      <td>360.0</td>\n",
       "      <td>1.0</td>\n",
       "      <td>Urban</td>\n",
       "      <td>Y</td>\n",
       "    </tr>\n",
       "  </tbody>\n",
       "</table>\n",
       "</div>"
      ],
      "text/plain": [
       "    Loan_ID Gender Married Dependents     Education Self_Employed  \\\n",
       "0  LP001002   Male      No          0      Graduate            No   \n",
       "1  LP001003   Male     Yes          1      Graduate            No   \n",
       "2  LP001005   Male     Yes          0      Graduate           Yes   \n",
       "3  LP001006   Male     Yes          0  Not Graduate            No   \n",
       "4  LP001008   Male      No          0      Graduate            No   \n",
       "\n",
       "   ApplicantIncome  CoapplicantIncome  LoanAmount  Loan_Amount_Term  \\\n",
       "0             5849                0.0         NaN             360.0   \n",
       "1             4583             1508.0       128.0             360.0   \n",
       "2             3000                0.0        66.0             360.0   \n",
       "3             2583             2358.0       120.0             360.0   \n",
       "4             6000                0.0       141.0             360.0   \n",
       "\n",
       "   Credit_History Property_Area Loan_Status  \n",
       "0             1.0         Urban           Y  \n",
       "1             1.0         Rural           N  \n",
       "2             1.0         Urban           Y  \n",
       "3             1.0         Urban           Y  \n",
       "4             1.0         Urban           Y  "
      ]
     },
     "execution_count": 3,
     "metadata": {},
     "output_type": "execute_result"
    }
   ],
   "source": [
    "df.head()"
   ]
  },
  {
   "cell_type": "markdown",
   "id": "b9478bc5-4027-4a55-a6b6-fd3662f52a7c",
   "metadata": {
    "id": "b9478bc5-4027-4a55-a6b6-fd3662f52a7c"
   },
   "source": [
    "<h3> Q2: Split the dataset into train and test sets. </h3>"
   ]
  },
  {
   "cell_type": "code",
   "execution_count": 42,
   "id": "6fc861cd-750b-4bff-8a5c-1f9d398e2084",
   "metadata": {},
   "outputs": [
    {
     "data": {
      "text/plain": [
       "(614, 13)"
      ]
     },
     "execution_count": 42,
     "metadata": {},
     "output_type": "execute_result"
    }
   ],
   "source": [
    "df.shape"
   ]
  },
  {
   "cell_type": "code",
   "execution_count": 47,
   "id": "db6232f6-f213-411b-b863-a833506b7a17",
   "metadata": {
    "id": "db6232f6-f213-411b-b863-a833506b7a17"
   },
   "outputs": [],
   "source": [
    "#code\n",
    "from sklearn.model_selection import train_test_split\n",
    "X = df.iloc[:,0:12]\n",
    "y = df[\"Loan_Status\"]\n",
    "X_train, X_test, y_train, y_test = train_test_split(X, y, test_size=0.30)\n"
   ]
  },
  {
   "cell_type": "markdown",
   "id": "12bcf38d-81b1-4ed3-a596-d3a20aba7551",
   "metadata": {
    "id": "12bcf38d-81b1-4ed3-a596-d3a20aba7551"
   },
   "source": [
    "<h3>Q3: check shape of training and test sets </h3>"
   ]
  },
  {
   "cell_type": "code",
   "execution_count": 48,
   "id": "db580b1e-0a8f-4ba2-9859-94eb70f05b41",
   "metadata": {
    "id": "db580b1e-0a8f-4ba2-9859-94eb70f05b41",
    "outputId": "82018908-e0c1-4bb5-efa1-66bfbe28444d"
   },
   "outputs": [
    {
     "name": "stdout",
     "output_type": "stream",
     "text": [
      "(429, 12)\n",
      "(185, 12)\n"
     ]
    }
   ],
   "source": [
    "#code\n",
    "#Training sets shape\n",
    "print(X_train.shape)\n",
    "#Testing sets shape\n",
    "print(X_test.shape)"
   ]
  },
  {
   "cell_type": "markdown",
   "id": "570b63f6-bd93-48d0-a39e-35965c36cf22",
   "metadata": {
    "id": "570b63f6-bd93-48d0-a39e-35965c36cf22"
   },
   "source": [
    "<h3>Q4: Perform scaling in the data using Standard Scalar </h3>"
   ]
  },
  {
   "cell_type": "code",
   "execution_count": 49,
   "id": "4bcbf69e-f63d-42de-8e8e-7d5ddcd20986",
   "metadata": {
    "id": "4bcbf69e-f63d-42de-8e8e-7d5ddcd20986",
    "outputId": "a6661d35-a1e9-4ae9-edd5-34fa61c21301"
   },
   "outputs": [
    {
     "name": "stdout",
     "output_type": "stream",
     "text": [
      "<class 'pandas.core.frame.DataFrame'>\n",
      "RangeIndex: 614 entries, 0 to 613\n",
      "Data columns (total 13 columns):\n",
      " #   Column             Non-Null Count  Dtype  \n",
      "---  ------             --------------  -----  \n",
      " 0   Loan_ID            614 non-null    object \n",
      " 1   Gender             601 non-null    object \n",
      " 2   Married            611 non-null    object \n",
      " 3   Dependents         599 non-null    object \n",
      " 4   Education          614 non-null    object \n",
      " 5   Self_Employed      582 non-null    object \n",
      " 6   ApplicantIncome    614 non-null    int64  \n",
      " 7   CoapplicantIncome  614 non-null    float64\n",
      " 8   LoanAmount         592 non-null    float64\n",
      " 9   Loan_Amount_Term   600 non-null    float64\n",
      " 10  Credit_History     564 non-null    float64\n",
      " 11  Property_Area      614 non-null    object \n",
      " 12  Loan_Status        614 non-null    object \n",
      "dtypes: float64(4), int64(1), object(8)\n",
      "memory usage: 62.5+ KB\n"
     ]
    }
   ],
   "source": [
    "#code\n",
    "df.info()"
   ]
  },
  {
   "cell_type": "code",
   "execution_count": 50,
   "id": "dde04f64",
   "metadata": {
    "id": "dde04f64",
    "outputId": "137c8688-acdb-4a54-e117-2e6c0de4e310"
   },
   "outputs": [
    {
     "data": {
      "text/plain": [
       "Loan_ID          614\n",
       "Gender             2\n",
       "Married            2\n",
       "Dependents         4\n",
       "Education          2\n",
       "Self_Employed      2\n",
       "Property_Area      3\n",
       "dtype: int64"
      ]
     },
     "execution_count": 50,
     "metadata": {},
     "output_type": "execute_result"
    }
   ],
   "source": [
    "#feature encoding\n",
    "# Identify categorical columns\n",
    "cat_columns = X.select_dtypes(include=['object']).columns\n",
    "\n",
    "# Check the number of unique categories in each categorical feature\n",
    "X[cat_columns].nunique()"
   ]
  },
  {
   "cell_type": "code",
   "execution_count": 51,
   "id": "01bf79c3",
   "metadata": {
    "id": "01bf79c3",
    "outputId": "c2653e56-057a-406b-be71-71f068086317"
   },
   "outputs": [
    {
     "name": "stdout",
     "output_type": "stream",
     "text": [
      "\n",
      "Distribution of categories in Loan_ID:\n",
      "Loan_ID\n",
      "LP001002    1\n",
      "LP002328    1\n",
      "LP002305    1\n",
      "LP002308    1\n",
      "LP002314    1\n",
      "           ..\n",
      "LP001692    1\n",
      "LP001693    1\n",
      "LP001698    1\n",
      "LP001699    1\n",
      "LP002990    1\n",
      "Name: count, Length: 614, dtype: int64\n",
      "\n",
      "Distribution of categories in Gender:\n",
      "Gender\n",
      "Male      489\n",
      "Female    112\n",
      "Name: count, dtype: int64\n",
      "\n",
      "Distribution of categories in Married:\n",
      "Married\n",
      "Yes    398\n",
      "No     213\n",
      "Name: count, dtype: int64\n",
      "\n",
      "Distribution of categories in Dependents:\n",
      "Dependents\n",
      "0     345\n",
      "1     102\n",
      "2     101\n",
      "3+     51\n",
      "Name: count, dtype: int64\n",
      "\n",
      "Distribution of categories in Education:\n",
      "Education\n",
      "Graduate        480\n",
      "Not Graduate    134\n",
      "Name: count, dtype: int64\n",
      "\n",
      "Distribution of categories in Self_Employed:\n",
      "Self_Employed\n",
      "No     500\n",
      "Yes     82\n",
      "Name: count, dtype: int64\n",
      "\n",
      "Distribution of categories in Property_Area:\n",
      "Property_Area\n",
      "Semiurban    233\n",
      "Urban        202\n",
      "Rural        179\n",
      "Name: count, dtype: int64\n"
     ]
    }
   ],
   "source": [
    "# Check the distribution of categories within each feature\n",
    "for col in cat_columns:\n",
    "    print(f\"\\nDistribution of categories in {col}:\")\n",
    "    print(X[col].value_counts())"
   ]
  },
  {
   "cell_type": "code",
   "execution_count": 9,
   "id": "54434372",
   "metadata": {
    "id": "54434372",
    "outputId": "b9785336-bcd0-4c80-b007-3793fcbc528d"
   },
   "outputs": [
    {
     "data": {
      "text/html": [
       "<div>\n",
       "<style scoped>\n",
       "    .dataframe tbody tr th:only-of-type {\n",
       "        vertical-align: middle;\n",
       "    }\n",
       "\n",
       "    .dataframe tbody tr th {\n",
       "        vertical-align: top;\n",
       "    }\n",
       "\n",
       "    .dataframe thead th {\n",
       "        text-align: right;\n",
       "    }\n",
       "</style>\n",
       "<table border=\"1\" class=\"dataframe\">\n",
       "  <thead>\n",
       "    <tr style=\"text-align: right;\">\n",
       "      <th></th>\n",
       "      <th>Loan_ID</th>\n",
       "      <th>Gender</th>\n",
       "      <th>Married</th>\n",
       "      <th>Dependents</th>\n",
       "      <th>Education</th>\n",
       "      <th>Self_Employed</th>\n",
       "      <th>ApplicantIncome</th>\n",
       "      <th>CoapplicantIncome</th>\n",
       "      <th>LoanAmount</th>\n",
       "      <th>Loan_Amount_Term</th>\n",
       "      <th>Credit_History</th>\n",
       "      <th>Property_Area</th>\n",
       "      <th>Loan_Status</th>\n",
       "    </tr>\n",
       "  </thead>\n",
       "  <tbody>\n",
       "    <tr>\n",
       "      <th>0</th>\n",
       "      <td>LP001002</td>\n",
       "      <td>Male</td>\n",
       "      <td>0.0</td>\n",
       "      <td>0</td>\n",
       "      <td>Graduate</td>\n",
       "      <td>0.0</td>\n",
       "      <td>5849</td>\n",
       "      <td>0.0</td>\n",
       "      <td>NaN</td>\n",
       "      <td>360.0</td>\n",
       "      <td>1.0</td>\n",
       "      <td>Urban</td>\n",
       "      <td>Y</td>\n",
       "    </tr>\n",
       "    <tr>\n",
       "      <th>1</th>\n",
       "      <td>LP001003</td>\n",
       "      <td>Male</td>\n",
       "      <td>1.0</td>\n",
       "      <td>1</td>\n",
       "      <td>Graduate</td>\n",
       "      <td>0.0</td>\n",
       "      <td>4583</td>\n",
       "      <td>1508.0</td>\n",
       "      <td>128.0</td>\n",
       "      <td>360.0</td>\n",
       "      <td>1.0</td>\n",
       "      <td>Rural</td>\n",
       "      <td>N</td>\n",
       "    </tr>\n",
       "    <tr>\n",
       "      <th>2</th>\n",
       "      <td>LP001005</td>\n",
       "      <td>Male</td>\n",
       "      <td>1.0</td>\n",
       "      <td>0</td>\n",
       "      <td>Graduate</td>\n",
       "      <td>1.0</td>\n",
       "      <td>3000</td>\n",
       "      <td>0.0</td>\n",
       "      <td>66.0</td>\n",
       "      <td>360.0</td>\n",
       "      <td>1.0</td>\n",
       "      <td>Urban</td>\n",
       "      <td>Y</td>\n",
       "    </tr>\n",
       "    <tr>\n",
       "      <th>3</th>\n",
       "      <td>LP001006</td>\n",
       "      <td>Male</td>\n",
       "      <td>1.0</td>\n",
       "      <td>0</td>\n",
       "      <td>Not Graduate</td>\n",
       "      <td>0.0</td>\n",
       "      <td>2583</td>\n",
       "      <td>2358.0</td>\n",
       "      <td>120.0</td>\n",
       "      <td>360.0</td>\n",
       "      <td>1.0</td>\n",
       "      <td>Urban</td>\n",
       "      <td>Y</td>\n",
       "    </tr>\n",
       "    <tr>\n",
       "      <th>4</th>\n",
       "      <td>LP001008</td>\n",
       "      <td>Male</td>\n",
       "      <td>0.0</td>\n",
       "      <td>0</td>\n",
       "      <td>Graduate</td>\n",
       "      <td>0.0</td>\n",
       "      <td>6000</td>\n",
       "      <td>0.0</td>\n",
       "      <td>141.0</td>\n",
       "      <td>360.0</td>\n",
       "      <td>1.0</td>\n",
       "      <td>Urban</td>\n",
       "      <td>Y</td>\n",
       "    </tr>\n",
       "  </tbody>\n",
       "</table>\n",
       "</div>"
      ],
      "text/plain": [
       "    Loan_ID Gender  Married Dependents     Education  Self_Employed  \\\n",
       "0  LP001002   Male      0.0          0      Graduate            0.0   \n",
       "1  LP001003   Male      1.0          1      Graduate            0.0   \n",
       "2  LP001005   Male      1.0          0      Graduate            1.0   \n",
       "3  LP001006   Male      1.0          0  Not Graduate            0.0   \n",
       "4  LP001008   Male      0.0          0      Graduate            0.0   \n",
       "\n",
       "   ApplicantIncome  CoapplicantIncome  LoanAmount  Loan_Amount_Term  \\\n",
       "0             5849                0.0         NaN             360.0   \n",
       "1             4583             1508.0       128.0             360.0   \n",
       "2             3000                0.0        66.0             360.0   \n",
       "3             2583             2358.0       120.0             360.0   \n",
       "4             6000                0.0       141.0             360.0   \n",
       "\n",
       "   Credit_History Property_Area Loan_Status  \n",
       "0             1.0         Urban           Y  \n",
       "1             1.0         Rural           N  \n",
       "2             1.0         Urban           Y  \n",
       "3             1.0         Urban           Y  \n",
       "4             1.0         Urban           Y  "
      ]
     },
     "execution_count": 9,
     "metadata": {},
     "output_type": "execute_result"
    }
   ],
   "source": [
    "# for columns Self_Employed ,Married binary mapping since it is with yes or no\n",
    "binary_mapping = {'Yes': 1, 'No': 0}\n",
    "df['Self_Employed'] = df['Self_Employed'].map(binary_mapping)\n",
    "df['Married'] = df['Married'].map(binary_mapping)\n",
    "df.head()"
   ]
  },
  {
   "cell_type": "code",
   "execution_count": 10,
   "id": "983bca3b",
   "metadata": {
    "id": "983bca3b",
    "outputId": "6c81aef3-0aea-4b3e-dce7-340a42fcc06e"
   },
   "outputs": [
    {
     "data": {
      "text/html": [
       "<div>\n",
       "<style scoped>\n",
       "    .dataframe tbody tr th:only-of-type {\n",
       "        vertical-align: middle;\n",
       "    }\n",
       "\n",
       "    .dataframe tbody tr th {\n",
       "        vertical-align: top;\n",
       "    }\n",
       "\n",
       "    .dataframe thead th {\n",
       "        text-align: right;\n",
       "    }\n",
       "</style>\n",
       "<table border=\"1\" class=\"dataframe\">\n",
       "  <thead>\n",
       "    <tr style=\"text-align: right;\">\n",
       "      <th></th>\n",
       "      <th>Loan_ID</th>\n",
       "      <th>Gender</th>\n",
       "      <th>Married</th>\n",
       "      <th>Dependents</th>\n",
       "      <th>Education</th>\n",
       "      <th>Self_Employed</th>\n",
       "      <th>ApplicantIncome</th>\n",
       "      <th>CoapplicantIncome</th>\n",
       "      <th>LoanAmount</th>\n",
       "      <th>Loan_Amount_Term</th>\n",
       "      <th>Credit_History</th>\n",
       "      <th>Property_Area</th>\n",
       "      <th>Loan_Status</th>\n",
       "    </tr>\n",
       "  </thead>\n",
       "  <tbody>\n",
       "    <tr>\n",
       "      <th>0</th>\n",
       "      <td>0</td>\n",
       "      <td>Male</td>\n",
       "      <td>0.0</td>\n",
       "      <td>0</td>\n",
       "      <td>Graduate</td>\n",
       "      <td>0.0</td>\n",
       "      <td>5849</td>\n",
       "      <td>0.0</td>\n",
       "      <td>NaN</td>\n",
       "      <td>360.0</td>\n",
       "      <td>1.0</td>\n",
       "      <td>Urban</td>\n",
       "      <td>Y</td>\n",
       "    </tr>\n",
       "    <tr>\n",
       "      <th>1</th>\n",
       "      <td>1</td>\n",
       "      <td>Male</td>\n",
       "      <td>1.0</td>\n",
       "      <td>1</td>\n",
       "      <td>Graduate</td>\n",
       "      <td>0.0</td>\n",
       "      <td>4583</td>\n",
       "      <td>1508.0</td>\n",
       "      <td>128.0</td>\n",
       "      <td>360.0</td>\n",
       "      <td>1.0</td>\n",
       "      <td>Rural</td>\n",
       "      <td>N</td>\n",
       "    </tr>\n",
       "    <tr>\n",
       "      <th>2</th>\n",
       "      <td>2</td>\n",
       "      <td>Male</td>\n",
       "      <td>1.0</td>\n",
       "      <td>0</td>\n",
       "      <td>Graduate</td>\n",
       "      <td>1.0</td>\n",
       "      <td>3000</td>\n",
       "      <td>0.0</td>\n",
       "      <td>66.0</td>\n",
       "      <td>360.0</td>\n",
       "      <td>1.0</td>\n",
       "      <td>Urban</td>\n",
       "      <td>Y</td>\n",
       "    </tr>\n",
       "    <tr>\n",
       "      <th>3</th>\n",
       "      <td>3</td>\n",
       "      <td>Male</td>\n",
       "      <td>1.0</td>\n",
       "      <td>0</td>\n",
       "      <td>Not Graduate</td>\n",
       "      <td>0.0</td>\n",
       "      <td>2583</td>\n",
       "      <td>2358.0</td>\n",
       "      <td>120.0</td>\n",
       "      <td>360.0</td>\n",
       "      <td>1.0</td>\n",
       "      <td>Urban</td>\n",
       "      <td>Y</td>\n",
       "    </tr>\n",
       "    <tr>\n",
       "      <th>4</th>\n",
       "      <td>4</td>\n",
       "      <td>Male</td>\n",
       "      <td>0.0</td>\n",
       "      <td>0</td>\n",
       "      <td>Graduate</td>\n",
       "      <td>0.0</td>\n",
       "      <td>6000</td>\n",
       "      <td>0.0</td>\n",
       "      <td>141.0</td>\n",
       "      <td>360.0</td>\n",
       "      <td>1.0</td>\n",
       "      <td>Urban</td>\n",
       "      <td>Y</td>\n",
       "    </tr>\n",
       "  </tbody>\n",
       "</table>\n",
       "</div>"
      ],
      "text/plain": [
       "   Loan_ID Gender  Married Dependents     Education  Self_Employed  \\\n",
       "0        0   Male      0.0          0      Graduate            0.0   \n",
       "1        1   Male      1.0          1      Graduate            0.0   \n",
       "2        2   Male      1.0          0      Graduate            1.0   \n",
       "3        3   Male      1.0          0  Not Graduate            0.0   \n",
       "4        4   Male      0.0          0      Graduate            0.0   \n",
       "\n",
       "   ApplicantIncome  CoapplicantIncome  LoanAmount  Loan_Amount_Term  \\\n",
       "0             5849                0.0         NaN             360.0   \n",
       "1             4583             1508.0       128.0             360.0   \n",
       "2             3000                0.0        66.0             360.0   \n",
       "3             2583             2358.0       120.0             360.0   \n",
       "4             6000                0.0       141.0             360.0   \n",
       "\n",
       "   Credit_History Property_Area Loan_Status  \n",
       "0             1.0         Urban           Y  \n",
       "1             1.0         Rural           N  \n",
       "2             1.0         Urban           Y  \n",
       "3             1.0         Urban           Y  \n",
       "4             1.0         Urban           Y  "
      ]
     },
     "execution_count": 10,
     "metadata": {},
     "output_type": "execute_result"
    }
   ],
   "source": [
    "from sklearn.preprocessing import LabelEncoder\n",
    "#label encoder for ordinal data Loan_ID\n",
    "le = LabelEncoder()\n",
    "df['Loan_ID'] = le.fit_transform(df['Loan_ID'])\n",
    "df.head()"
   ]
  },
  {
   "cell_type": "code",
   "execution_count": 11,
   "id": "5872a76b",
   "metadata": {
    "id": "5872a76b"
   },
   "outputs": [],
   "source": [
    "# Apply one-hot encoding to 'Gender', 'Dependents', 'Education' and 'Property Area'\n",
    "df = pd.get_dummies(df, columns=['Gender', 'Dependents','Education','Property_Area'])"
   ]
  },
  {
   "cell_type": "code",
   "execution_count": 12,
   "id": "cb120691",
   "metadata": {
    "id": "cb120691"
   },
   "outputs": [],
   "source": [
    "#from sklearn.preprocessing import OrdinalEncoder\n",
    "#ordinal_encoder = OrdinalEncoder(categories=[['low', 'medium', 'high']])\n",
    "#df['ordinal_column'] = ordinal_encoder.fit_transform(df[['ordinal_column']])"
   ]
  },
  {
   "cell_type": "code",
   "execution_count": 13,
   "id": "UyWpo1eSheXU",
   "metadata": {
    "id": "UyWpo1eSheXU",
    "outputId": "5373de04-2c98-4123-b2d6-426af75d8dc4"
   },
   "outputs": [
    {
     "data": {
      "text/html": [
       "<div>\n",
       "<style scoped>\n",
       "    .dataframe tbody tr th:only-of-type {\n",
       "        vertical-align: middle;\n",
       "    }\n",
       "\n",
       "    .dataframe tbody tr th {\n",
       "        vertical-align: top;\n",
       "    }\n",
       "\n",
       "    .dataframe thead th {\n",
       "        text-align: right;\n",
       "    }\n",
       "</style>\n",
       "<table border=\"1\" class=\"dataframe\">\n",
       "  <thead>\n",
       "    <tr style=\"text-align: right;\">\n",
       "      <th></th>\n",
       "      <th>Loan_ID</th>\n",
       "      <th>Married</th>\n",
       "      <th>Self_Employed</th>\n",
       "      <th>ApplicantIncome</th>\n",
       "      <th>CoapplicantIncome</th>\n",
       "      <th>LoanAmount</th>\n",
       "      <th>Loan_Amount_Term</th>\n",
       "      <th>Credit_History</th>\n",
       "      <th>Loan_Status</th>\n",
       "      <th>Gender_Female</th>\n",
       "      <th>Gender_Male</th>\n",
       "      <th>Dependents_0</th>\n",
       "      <th>Dependents_1</th>\n",
       "      <th>Dependents_2</th>\n",
       "      <th>Dependents_3+</th>\n",
       "      <th>Education_Graduate</th>\n",
       "      <th>Education_Not Graduate</th>\n",
       "      <th>Property_Area_Rural</th>\n",
       "      <th>Property_Area_Semiurban</th>\n",
       "      <th>Property_Area_Urban</th>\n",
       "    </tr>\n",
       "  </thead>\n",
       "  <tbody>\n",
       "    <tr>\n",
       "      <th>0</th>\n",
       "      <td>0</td>\n",
       "      <td>0.0</td>\n",
       "      <td>0.0</td>\n",
       "      <td>5849</td>\n",
       "      <td>0.0</td>\n",
       "      <td>NaN</td>\n",
       "      <td>360.0</td>\n",
       "      <td>1.0</td>\n",
       "      <td>Y</td>\n",
       "      <td>False</td>\n",
       "      <td>True</td>\n",
       "      <td>True</td>\n",
       "      <td>False</td>\n",
       "      <td>False</td>\n",
       "      <td>False</td>\n",
       "      <td>True</td>\n",
       "      <td>False</td>\n",
       "      <td>False</td>\n",
       "      <td>False</td>\n",
       "      <td>True</td>\n",
       "    </tr>\n",
       "    <tr>\n",
       "      <th>1</th>\n",
       "      <td>1</td>\n",
       "      <td>1.0</td>\n",
       "      <td>0.0</td>\n",
       "      <td>4583</td>\n",
       "      <td>1508.0</td>\n",
       "      <td>128.0</td>\n",
       "      <td>360.0</td>\n",
       "      <td>1.0</td>\n",
       "      <td>N</td>\n",
       "      <td>False</td>\n",
       "      <td>True</td>\n",
       "      <td>False</td>\n",
       "      <td>True</td>\n",
       "      <td>False</td>\n",
       "      <td>False</td>\n",
       "      <td>True</td>\n",
       "      <td>False</td>\n",
       "      <td>True</td>\n",
       "      <td>False</td>\n",
       "      <td>False</td>\n",
       "    </tr>\n",
       "    <tr>\n",
       "      <th>2</th>\n",
       "      <td>2</td>\n",
       "      <td>1.0</td>\n",
       "      <td>1.0</td>\n",
       "      <td>3000</td>\n",
       "      <td>0.0</td>\n",
       "      <td>66.0</td>\n",
       "      <td>360.0</td>\n",
       "      <td>1.0</td>\n",
       "      <td>Y</td>\n",
       "      <td>False</td>\n",
       "      <td>True</td>\n",
       "      <td>True</td>\n",
       "      <td>False</td>\n",
       "      <td>False</td>\n",
       "      <td>False</td>\n",
       "      <td>True</td>\n",
       "      <td>False</td>\n",
       "      <td>False</td>\n",
       "      <td>False</td>\n",
       "      <td>True</td>\n",
       "    </tr>\n",
       "    <tr>\n",
       "      <th>3</th>\n",
       "      <td>3</td>\n",
       "      <td>1.0</td>\n",
       "      <td>0.0</td>\n",
       "      <td>2583</td>\n",
       "      <td>2358.0</td>\n",
       "      <td>120.0</td>\n",
       "      <td>360.0</td>\n",
       "      <td>1.0</td>\n",
       "      <td>Y</td>\n",
       "      <td>False</td>\n",
       "      <td>True</td>\n",
       "      <td>True</td>\n",
       "      <td>False</td>\n",
       "      <td>False</td>\n",
       "      <td>False</td>\n",
       "      <td>False</td>\n",
       "      <td>True</td>\n",
       "      <td>False</td>\n",
       "      <td>False</td>\n",
       "      <td>True</td>\n",
       "    </tr>\n",
       "    <tr>\n",
       "      <th>4</th>\n",
       "      <td>4</td>\n",
       "      <td>0.0</td>\n",
       "      <td>0.0</td>\n",
       "      <td>6000</td>\n",
       "      <td>0.0</td>\n",
       "      <td>141.0</td>\n",
       "      <td>360.0</td>\n",
       "      <td>1.0</td>\n",
       "      <td>Y</td>\n",
       "      <td>False</td>\n",
       "      <td>True</td>\n",
       "      <td>True</td>\n",
       "      <td>False</td>\n",
       "      <td>False</td>\n",
       "      <td>False</td>\n",
       "      <td>True</td>\n",
       "      <td>False</td>\n",
       "      <td>False</td>\n",
       "      <td>False</td>\n",
       "      <td>True</td>\n",
       "    </tr>\n",
       "  </tbody>\n",
       "</table>\n",
       "</div>"
      ],
      "text/plain": [
       "   Loan_ID  Married  Self_Employed  ApplicantIncome  CoapplicantIncome  \\\n",
       "0        0      0.0            0.0             5849                0.0   \n",
       "1        1      1.0            0.0             4583             1508.0   \n",
       "2        2      1.0            1.0             3000                0.0   \n",
       "3        3      1.0            0.0             2583             2358.0   \n",
       "4        4      0.0            0.0             6000                0.0   \n",
       "\n",
       "   LoanAmount  Loan_Amount_Term  Credit_History Loan_Status  Gender_Female  \\\n",
       "0         NaN             360.0             1.0           Y          False   \n",
       "1       128.0             360.0             1.0           N          False   \n",
       "2        66.0             360.0             1.0           Y          False   \n",
       "3       120.0             360.0             1.0           Y          False   \n",
       "4       141.0             360.0             1.0           Y          False   \n",
       "\n",
       "   Gender_Male  Dependents_0  Dependents_1  Dependents_2  Dependents_3+  \\\n",
       "0         True          True         False         False          False   \n",
       "1         True         False          True         False          False   \n",
       "2         True          True         False         False          False   \n",
       "3         True          True         False         False          False   \n",
       "4         True          True         False         False          False   \n",
       "\n",
       "   Education_Graduate  Education_Not Graduate  Property_Area_Rural  \\\n",
       "0                True                   False                False   \n",
       "1                True                   False                 True   \n",
       "2                True                   False                False   \n",
       "3               False                    True                False   \n",
       "4                True                   False                False   \n",
       "\n",
       "   Property_Area_Semiurban  Property_Area_Urban  \n",
       "0                    False                 True  \n",
       "1                    False                False  \n",
       "2                    False                 True  \n",
       "3                    False                 True  \n",
       "4                    False                 True  "
      ]
     },
     "execution_count": 13,
     "metadata": {},
     "output_type": "execute_result"
    }
   ],
   "source": [
    "df.head()"
   ]
  },
  {
   "cell_type": "code",
   "execution_count": 14,
   "id": "a4a26e66",
   "metadata": {
    "id": "a4a26e66",
    "outputId": "c367f627-00d2-4807-d7d1-46b163f79972"
   },
   "outputs": [
    {
     "data": {
      "text/html": [
       "<div>\n",
       "<style scoped>\n",
       "    .dataframe tbody tr th:only-of-type {\n",
       "        vertical-align: middle;\n",
       "    }\n",
       "\n",
       "    .dataframe tbody tr th {\n",
       "        vertical-align: top;\n",
       "    }\n",
       "\n",
       "    .dataframe thead th {\n",
       "        text-align: right;\n",
       "    }\n",
       "</style>\n",
       "<table border=\"1\" class=\"dataframe\">\n",
       "  <thead>\n",
       "    <tr style=\"text-align: right;\">\n",
       "      <th></th>\n",
       "      <th>Loan_ID</th>\n",
       "      <th>Married</th>\n",
       "      <th>Self_Employed</th>\n",
       "      <th>ApplicantIncome</th>\n",
       "      <th>CoapplicantIncome</th>\n",
       "      <th>LoanAmount</th>\n",
       "      <th>Loan_Amount_Term</th>\n",
       "      <th>Credit_History</th>\n",
       "      <th>Gender_Female</th>\n",
       "      <th>Gender_Male</th>\n",
       "      <th>Dependents_0</th>\n",
       "      <th>Dependents_1</th>\n",
       "      <th>Dependents_2</th>\n",
       "      <th>Dependents_3+</th>\n",
       "      <th>Education_Graduate</th>\n",
       "      <th>Education_Not Graduate</th>\n",
       "      <th>Property_Area_Rural</th>\n",
       "      <th>Property_Area_Semiurban</th>\n",
       "      <th>Property_Area_Urban</th>\n",
       "    </tr>\n",
       "  </thead>\n",
       "  <tbody>\n",
       "    <tr>\n",
       "      <th>0</th>\n",
       "      <td>-1.729232</td>\n",
       "      <td>-1.366947</td>\n",
       "      <td>-0.404969</td>\n",
       "      <td>0.072991</td>\n",
       "      <td>-0.554487</td>\n",
       "      <td>NaN</td>\n",
       "      <td>0.276642</td>\n",
       "      <td>0.432861</td>\n",
       "      <td>-0.472343</td>\n",
       "      <td>0.505592</td>\n",
       "      <td>0.883012</td>\n",
       "      <td>-0.446339</td>\n",
       "      <td>-0.443713</td>\n",
       "      <td>-0.300975</td>\n",
       "      <td>0.528362</td>\n",
       "      <td>-0.528362</td>\n",
       "      <td>-0.641478</td>\n",
       "      <td>-0.782016</td>\n",
       "      <td>1.428147</td>\n",
       "    </tr>\n",
       "    <tr>\n",
       "      <th>1</th>\n",
       "      <td>-1.723590</td>\n",
       "      <td>0.731557</td>\n",
       "      <td>-0.404969</td>\n",
       "      <td>-0.134412</td>\n",
       "      <td>-0.038732</td>\n",
       "      <td>-0.215309</td>\n",
       "      <td>0.276642</td>\n",
       "      <td>0.432861</td>\n",
       "      <td>-0.472343</td>\n",
       "      <td>0.505592</td>\n",
       "      <td>-1.132487</td>\n",
       "      <td>2.240448</td>\n",
       "      <td>-0.443713</td>\n",
       "      <td>-0.300975</td>\n",
       "      <td>0.528362</td>\n",
       "      <td>-0.528362</td>\n",
       "      <td>1.558899</td>\n",
       "      <td>-0.782016</td>\n",
       "      <td>-0.700208</td>\n",
       "    </tr>\n",
       "    <tr>\n",
       "      <th>2</th>\n",
       "      <td>-1.717948</td>\n",
       "      <td>0.731557</td>\n",
       "      <td>2.469324</td>\n",
       "      <td>-0.393747</td>\n",
       "      <td>-0.554487</td>\n",
       "      <td>-0.940328</td>\n",
       "      <td>0.276642</td>\n",
       "      <td>0.432861</td>\n",
       "      <td>-0.472343</td>\n",
       "      <td>0.505592</td>\n",
       "      <td>0.883012</td>\n",
       "      <td>-0.446339</td>\n",
       "      <td>-0.443713</td>\n",
       "      <td>-0.300975</td>\n",
       "      <td>0.528362</td>\n",
       "      <td>-0.528362</td>\n",
       "      <td>-0.641478</td>\n",
       "      <td>-0.782016</td>\n",
       "      <td>1.428147</td>\n",
       "    </tr>\n",
       "    <tr>\n",
       "      <th>3</th>\n",
       "      <td>-1.712307</td>\n",
       "      <td>0.731557</td>\n",
       "      <td>-0.404969</td>\n",
       "      <td>-0.462062</td>\n",
       "      <td>0.251980</td>\n",
       "      <td>-0.308860</td>\n",
       "      <td>0.276642</td>\n",
       "      <td>0.432861</td>\n",
       "      <td>-0.472343</td>\n",
       "      <td>0.505592</td>\n",
       "      <td>0.883012</td>\n",
       "      <td>-0.446339</td>\n",
       "      <td>-0.443713</td>\n",
       "      <td>-0.300975</td>\n",
       "      <td>-1.892641</td>\n",
       "      <td>1.892641</td>\n",
       "      <td>-0.641478</td>\n",
       "      <td>-0.782016</td>\n",
       "      <td>1.428147</td>\n",
       "    </tr>\n",
       "    <tr>\n",
       "      <th>4</th>\n",
       "      <td>-1.706665</td>\n",
       "      <td>-1.366947</td>\n",
       "      <td>-0.404969</td>\n",
       "      <td>0.097728</td>\n",
       "      <td>-0.554487</td>\n",
       "      <td>-0.063289</td>\n",
       "      <td>0.276642</td>\n",
       "      <td>0.432861</td>\n",
       "      <td>-0.472343</td>\n",
       "      <td>0.505592</td>\n",
       "      <td>0.883012</td>\n",
       "      <td>-0.446339</td>\n",
       "      <td>-0.443713</td>\n",
       "      <td>-0.300975</td>\n",
       "      <td>0.528362</td>\n",
       "      <td>-0.528362</td>\n",
       "      <td>-0.641478</td>\n",
       "      <td>-0.782016</td>\n",
       "      <td>1.428147</td>\n",
       "    </tr>\n",
       "  </tbody>\n",
       "</table>\n",
       "</div>"
      ],
      "text/plain": [
       "    Loan_ID   Married  Self_Employed  ApplicantIncome  CoapplicantIncome  \\\n",
       "0 -1.729232 -1.366947      -0.404969         0.072991          -0.554487   \n",
       "1 -1.723590  0.731557      -0.404969        -0.134412          -0.038732   \n",
       "2 -1.717948  0.731557       2.469324        -0.393747          -0.554487   \n",
       "3 -1.712307  0.731557      -0.404969        -0.462062           0.251980   \n",
       "4 -1.706665 -1.366947      -0.404969         0.097728          -0.554487   \n",
       "\n",
       "   LoanAmount  Loan_Amount_Term  Credit_History  Gender_Female  Gender_Male  \\\n",
       "0         NaN          0.276642        0.432861      -0.472343     0.505592   \n",
       "1   -0.215309          0.276642        0.432861      -0.472343     0.505592   \n",
       "2   -0.940328          0.276642        0.432861      -0.472343     0.505592   \n",
       "3   -0.308860          0.276642        0.432861      -0.472343     0.505592   \n",
       "4   -0.063289          0.276642        0.432861      -0.472343     0.505592   \n",
       "\n",
       "   Dependents_0  Dependents_1  Dependents_2  Dependents_3+  \\\n",
       "0      0.883012     -0.446339     -0.443713      -0.300975   \n",
       "1     -1.132487      2.240448     -0.443713      -0.300975   \n",
       "2      0.883012     -0.446339     -0.443713      -0.300975   \n",
       "3      0.883012     -0.446339     -0.443713      -0.300975   \n",
       "4      0.883012     -0.446339     -0.443713      -0.300975   \n",
       "\n",
       "   Education_Graduate  Education_Not Graduate  Property_Area_Rural  \\\n",
       "0            0.528362               -0.528362            -0.641478   \n",
       "1            0.528362               -0.528362             1.558899   \n",
       "2            0.528362               -0.528362            -0.641478   \n",
       "3           -1.892641                1.892641            -0.641478   \n",
       "4            0.528362               -0.528362            -0.641478   \n",
       "\n",
       "   Property_Area_Semiurban  Property_Area_Urban  \n",
       "0                -0.782016             1.428147  \n",
       "1                -0.782016            -0.700208  \n",
       "2                -0.782016             1.428147  \n",
       "3                -0.782016             1.428147  \n",
       "4                -0.782016             1.428147  "
      ]
     },
     "execution_count": 14,
     "metadata": {},
     "output_type": "execute_result"
    }
   ],
   "source": [
    "from sklearn.preprocessing import StandardScaler\n",
    "df_new = df.copy()\n",
    "X = df_new.drop(columns=['Loan_Status'])\n",
    "y = df[\"Loan_Status\"]\n",
    "#X_train, X_test, y_train, y_test = train_test_split(X, y, test_size=0.30)\n",
    "# Initialize StandardScaler\n",
    "scaler = StandardScaler()\n",
    "\n",
    "# Fit and transform the data\n",
    "scaled_data = scaler.fit_transform(X)\n",
    "\n",
    "# Create a DataFrame with scaled data\n",
    "df_scaled = pd.DataFrame(scaled_data, columns=X.columns)\n",
    "df_scaled.head()\n"
   ]
  },
  {
   "cell_type": "code",
   "execution_count": null,
   "id": "af7ac760",
   "metadata": {
    "id": "af7ac760"
   },
   "outputs": [],
   "source": []
  },
  {
   "cell_type": "markdown",
   "id": "b227138c-d19c-428a-af7a-6271f7ea06e6",
   "metadata": {
    "id": "b227138c-d19c-428a-af7a-6271f7ea06e6"
   },
   "source": [
    "<h3> Q5: Calculate the % of missing values in a column. </h3>"
   ]
  },
  {
   "cell_type": "code",
   "execution_count": null,
   "id": "b1c47eda",
   "metadata": {
    "id": "b1c47eda"
   },
   "outputs": [],
   "source": []
  },
  {
   "cell_type": "code",
   "execution_count": 15,
   "id": "e820005d-bfb0-4194-940f-02638902b446",
   "metadata": {
    "id": "e820005d-bfb0-4194-940f-02638902b446",
    "outputId": "7c3dce66-9352-4917-a815-782fc18943cd"
   },
   "outputs": [
    {
     "name": "stdout",
     "output_type": "stream",
     "text": [
      "Missing Value Percentage by Columns:\n",
      " Credit_History             8.14\n",
      "Self_Employed              5.21\n",
      "LoanAmount                 3.58\n",
      "Loan_Amount_Term           2.28\n",
      "Married                    0.49\n",
      "Loan_ID                    0.00\n",
      "Dependents_2               0.00\n",
      "Property_Area_Semiurban    0.00\n",
      "Property_Area_Rural        0.00\n",
      "Education_Not Graduate     0.00\n",
      "Education_Graduate         0.00\n",
      "Dependents_3+              0.00\n",
      "Gender_Male                0.00\n",
      "Dependents_1               0.00\n",
      "Dependents_0               0.00\n",
      "Gender_Female              0.00\n",
      "CoapplicantIncome          0.00\n",
      "ApplicantIncome            0.00\n",
      "Property_Area_Urban        0.00\n",
      "dtype: float64\n"
     ]
    }
   ],
   "source": [
    "#code\n",
    "# Check the percentage of missing values in each column\n",
    "missing_percent = df_scaled.isnull().mean().sort_values(ascending=False) * 100\n",
    "print(\"Missing Value Percentage by Columns:\\n\", round(missing_percent,2))"
   ]
  },
  {
   "cell_type": "markdown",
   "id": "c4bc76dc-3783-46c0-b3c8-e85fc918a93a",
   "metadata": {
    "id": "c4bc76dc-3783-46c0-b3c8-e85fc918a93a"
   },
   "source": [
    "<h3> Q6: Remove features with missing values (&gt;20%)</h3>"
   ]
  },
  {
   "cell_type": "code",
   "execution_count": 16,
   "id": "7c93c889-29cd-4c80-a354-6248f613f8a8",
   "metadata": {
    "id": "7c93c889-29cd-4c80-a354-6248f613f8a8"
   },
   "outputs": [],
   "source": [
    "#code\n",
    "# List of columns to drop\n",
    "columns_to_drop = ['Married', 'Self_Employed']\n",
    "# Drop the specified columns\n",
    "df_dropped = df_scaled.drop(columns=columns_to_drop)"
   ]
  },
  {
   "cell_type": "markdown",
   "id": "165f119e-7c85-4a16-a275-7933bf5ed65f",
   "metadata": {
    "id": "165f119e-7c85-4a16-a275-7933bf5ed65f"
   },
   "source": [
    "<h3> Q7: If the missing values is &lt;20% ,do data imputation(mean/median)</h3>"
   ]
  },
  {
   "cell_type": "code",
   "execution_count": 17,
   "id": "389a22c4-01de-48b2-87c2-df7d69a5d9a7",
   "metadata": {
    "id": "389a22c4-01de-48b2-87c2-df7d69a5d9a7",
    "outputId": "08645c87-8e39-4724-8542-7b2836afdfb2"
   },
   "outputs": [
    {
     "data": {
      "text/html": [
       "<div>\n",
       "<style scoped>\n",
       "    .dataframe tbody tr th:only-of-type {\n",
       "        vertical-align: middle;\n",
       "    }\n",
       "\n",
       "    .dataframe tbody tr th {\n",
       "        vertical-align: top;\n",
       "    }\n",
       "\n",
       "    .dataframe thead th {\n",
       "        text-align: right;\n",
       "    }\n",
       "</style>\n",
       "<table border=\"1\" class=\"dataframe\">\n",
       "  <thead>\n",
       "    <tr style=\"text-align: right;\">\n",
       "      <th></th>\n",
       "      <th>Loan_ID</th>\n",
       "      <th>ApplicantIncome</th>\n",
       "      <th>CoapplicantIncome</th>\n",
       "      <th>LoanAmount</th>\n",
       "      <th>Loan_Amount_Term</th>\n",
       "      <th>Credit_History</th>\n",
       "      <th>Gender_Female</th>\n",
       "      <th>Gender_Male</th>\n",
       "      <th>Dependents_0</th>\n",
       "      <th>Dependents_1</th>\n",
       "      <th>Dependents_2</th>\n",
       "      <th>Dependents_3+</th>\n",
       "      <th>Education_Graduate</th>\n",
       "      <th>Education_Not Graduate</th>\n",
       "      <th>Property_Area_Rural</th>\n",
       "      <th>Property_Area_Semiurban</th>\n",
       "      <th>Property_Area_Urban</th>\n",
       "    </tr>\n",
       "  </thead>\n",
       "  <tbody>\n",
       "    <tr>\n",
       "      <th>0</th>\n",
       "      <td>-1.729232</td>\n",
       "      <td>0.072991</td>\n",
       "      <td>-0.554487</td>\n",
       "      <td>-0.215309</td>\n",
       "      <td>0.276642</td>\n",
       "      <td>0.432861</td>\n",
       "      <td>-0.472343</td>\n",
       "      <td>0.505592</td>\n",
       "      <td>0.883012</td>\n",
       "      <td>-0.446339</td>\n",
       "      <td>-0.443713</td>\n",
       "      <td>-0.300975</td>\n",
       "      <td>0.528362</td>\n",
       "      <td>-0.528362</td>\n",
       "      <td>-0.641478</td>\n",
       "      <td>-0.782016</td>\n",
       "      <td>1.428147</td>\n",
       "    </tr>\n",
       "    <tr>\n",
       "      <th>1</th>\n",
       "      <td>-1.723590</td>\n",
       "      <td>-0.134412</td>\n",
       "      <td>-0.038732</td>\n",
       "      <td>-0.215309</td>\n",
       "      <td>0.276642</td>\n",
       "      <td>0.432861</td>\n",
       "      <td>-0.472343</td>\n",
       "      <td>0.505592</td>\n",
       "      <td>-1.132487</td>\n",
       "      <td>2.240448</td>\n",
       "      <td>-0.443713</td>\n",
       "      <td>-0.300975</td>\n",
       "      <td>0.528362</td>\n",
       "      <td>-0.528362</td>\n",
       "      <td>1.558899</td>\n",
       "      <td>-0.782016</td>\n",
       "      <td>-0.700208</td>\n",
       "    </tr>\n",
       "    <tr>\n",
       "      <th>2</th>\n",
       "      <td>-1.717948</td>\n",
       "      <td>-0.393747</td>\n",
       "      <td>-0.554487</td>\n",
       "      <td>-0.940328</td>\n",
       "      <td>0.276642</td>\n",
       "      <td>0.432861</td>\n",
       "      <td>-0.472343</td>\n",
       "      <td>0.505592</td>\n",
       "      <td>0.883012</td>\n",
       "      <td>-0.446339</td>\n",
       "      <td>-0.443713</td>\n",
       "      <td>-0.300975</td>\n",
       "      <td>0.528362</td>\n",
       "      <td>-0.528362</td>\n",
       "      <td>-0.641478</td>\n",
       "      <td>-0.782016</td>\n",
       "      <td>1.428147</td>\n",
       "    </tr>\n",
       "    <tr>\n",
       "      <th>3</th>\n",
       "      <td>-1.712307</td>\n",
       "      <td>-0.462062</td>\n",
       "      <td>0.251980</td>\n",
       "      <td>-0.308860</td>\n",
       "      <td>0.276642</td>\n",
       "      <td>0.432861</td>\n",
       "      <td>-0.472343</td>\n",
       "      <td>0.505592</td>\n",
       "      <td>0.883012</td>\n",
       "      <td>-0.446339</td>\n",
       "      <td>-0.443713</td>\n",
       "      <td>-0.300975</td>\n",
       "      <td>-1.892641</td>\n",
       "      <td>1.892641</td>\n",
       "      <td>-0.641478</td>\n",
       "      <td>-0.782016</td>\n",
       "      <td>1.428147</td>\n",
       "    </tr>\n",
       "    <tr>\n",
       "      <th>4</th>\n",
       "      <td>-1.706665</td>\n",
       "      <td>0.097728</td>\n",
       "      <td>-0.554487</td>\n",
       "      <td>-0.063289</td>\n",
       "      <td>0.276642</td>\n",
       "      <td>0.432861</td>\n",
       "      <td>-0.472343</td>\n",
       "      <td>0.505592</td>\n",
       "      <td>0.883012</td>\n",
       "      <td>-0.446339</td>\n",
       "      <td>-0.443713</td>\n",
       "      <td>-0.300975</td>\n",
       "      <td>0.528362</td>\n",
       "      <td>-0.528362</td>\n",
       "      <td>-0.641478</td>\n",
       "      <td>-0.782016</td>\n",
       "      <td>1.428147</td>\n",
       "    </tr>\n",
       "  </tbody>\n",
       "</table>\n",
       "</div>"
      ],
      "text/plain": [
       "    Loan_ID  ApplicantIncome  CoapplicantIncome  LoanAmount  Loan_Amount_Term  \\\n",
       "0 -1.729232         0.072991          -0.554487   -0.215309          0.276642   \n",
       "1 -1.723590        -0.134412          -0.038732   -0.215309          0.276642   \n",
       "2 -1.717948        -0.393747          -0.554487   -0.940328          0.276642   \n",
       "3 -1.712307        -0.462062           0.251980   -0.308860          0.276642   \n",
       "4 -1.706665         0.097728          -0.554487   -0.063289          0.276642   \n",
       "\n",
       "   Credit_History  Gender_Female  Gender_Male  Dependents_0  Dependents_1  \\\n",
       "0        0.432861      -0.472343     0.505592      0.883012     -0.446339   \n",
       "1        0.432861      -0.472343     0.505592     -1.132487      2.240448   \n",
       "2        0.432861      -0.472343     0.505592      0.883012     -0.446339   \n",
       "3        0.432861      -0.472343     0.505592      0.883012     -0.446339   \n",
       "4        0.432861      -0.472343     0.505592      0.883012     -0.446339   \n",
       "\n",
       "   Dependents_2  Dependents_3+  Education_Graduate  Education_Not Graduate  \\\n",
       "0     -0.443713      -0.300975            0.528362               -0.528362   \n",
       "1     -0.443713      -0.300975            0.528362               -0.528362   \n",
       "2     -0.443713      -0.300975            0.528362               -0.528362   \n",
       "3     -0.443713      -0.300975           -1.892641                1.892641   \n",
       "4     -0.443713      -0.300975            0.528362               -0.528362   \n",
       "\n",
       "   Property_Area_Rural  Property_Area_Semiurban  Property_Area_Urban  \n",
       "0            -0.641478                -0.782016             1.428147  \n",
       "1             1.558899                -0.782016            -0.700208  \n",
       "2            -0.641478                -0.782016             1.428147  \n",
       "3            -0.641478                -0.782016             1.428147  \n",
       "4            -0.641478                -0.782016             1.428147  "
      ]
     },
     "execution_count": 17,
     "metadata": {},
     "output_type": "execute_result"
    }
   ],
   "source": [
    "#code\n",
    "# Impute missing values with the median\n",
    "df_impute = df_dropped.fillna(df_dropped.median())\n",
    "\n",
    "# Display the DataFrame after imputation\n",
    "df_impute.head()"
   ]
  },
  {
   "cell_type": "markdown",
   "id": "0a4aff52-0f5b-461a-b953-f2a2e7154aa2",
   "metadata": {
    "id": "0a4aff52-0f5b-461a-b953-f2a2e7154aa2"
   },
   "source": [
    "<h3> Q8: Visulaize the Outliers and Remove the same. </h3>"
   ]
  },
  {
   "cell_type": "code",
   "execution_count": 18,
   "id": "932d82c6-be32-4083-88a2-3d11a69bdcdd",
   "metadata": {
    "id": "932d82c6-be32-4083-88a2-3d11a69bdcdd"
   },
   "outputs": [],
   "source": [
    "#code\n",
    "import seaborn as sns\n",
    "import matplotlib.pyplot as plt\n"
   ]
  },
  {
   "cell_type": "markdown",
   "id": "9613e79d-30ee-4433-9bbd-7df04fa3a99c",
   "metadata": {
    "id": "9613e79d-30ee-4433-9bbd-7df04fa3a99c"
   },
   "source": [
    "<h3> Q9: Use sklearn variance threshold to find the constant features and display the constant\n",
    "features </h3>"
   ]
  },
  {
   "cell_type": "code",
   "execution_count": 19,
   "id": "e9309b35-1c7e-4a06-9233-d76ba2fd485e",
   "metadata": {
    "id": "e9309b35-1c7e-4a06-9233-d76ba2fd485e"
   },
   "outputs": [],
   "source": [
    "#code"
   ]
  },
  {
   "cell_type": "code",
   "execution_count": 20,
   "id": "65c3dc7d",
   "metadata": {
    "id": "65c3dc7d",
    "outputId": "7a466f8f-311b-4810-dbdd-40c85de66374"
   },
   "outputs": [
    {
     "data": {
      "text/plain": [
       "array([[2, 0],\n",
       "       [1, 4],\n",
       "       [1, 1]])"
      ]
     },
     "execution_count": 20,
     "metadata": {},
     "output_type": "execute_result"
    }
   ],
   "source": [
    "from sklearn.feature_selection import VarianceThreshold\n",
    "X = [[0, 2, 0, 3], [0, 1, 4, 3], [0, 1, 1, 3]]\n",
    "selector = VarianceThreshold()\n",
    "selector.fit_transform(X)"
   ]
  },
  {
   "cell_type": "markdown",
   "id": "81bc443c-ebe4-4b26-ad7d-b89a2356f24d",
   "metadata": {
    "id": "81bc443c-ebe4-4b26-ad7d-b89a2356f24d"
   },
   "source": [
    "<h3>Q10: Display and Remove features with low variance </h3>"
   ]
  },
  {
   "cell_type": "code",
   "execution_count": 21,
   "id": "dc276aa5-eea3-4f03-b167-5983407f2949",
   "metadata": {
    "id": "dc276aa5-eea3-4f03-b167-5983407f2949"
   },
   "outputs": [],
   "source": [
    "#code"
   ]
  },
  {
   "cell_type": "markdown",
   "id": "14a898e2-5da0-4587-a323-07a280bf36b5",
   "metadata": {
    "id": "14a898e2-5da0-4587-a323-07a280bf36b5"
   },
   "source": [
    "<h3>Q11: Visulize and Remove highly correlated features </h3>"
   ]
  },
  {
   "cell_type": "code",
   "execution_count": 22,
   "id": "9d8cdd1b-a439-42df-8d95-de556a9d5690",
   "metadata": {
    "id": "9d8cdd1b-a439-42df-8d95-de556a9d5690"
   },
   "outputs": [],
   "source": [
    "#code\n",
    "# Create a heatmap using seaborn\n"
   ]
  },
  {
   "cell_type": "markdown",
   "id": "cfc1dbe4-b43b-4538-b5a2-7f1a4c1d77ee",
   "metadata": {
    "id": "cfc1dbe4-b43b-4538-b5a2-7f1a4c1d77ee"
   },
   "source": [
    "<h3>Q12: Perform Univariate feature selection(SelectKBest, SelectPercentile) </h3>"
   ]
  },
  {
   "cell_type": "code",
   "execution_count": 23,
   "id": "e53736c5-a2c0-4610-bab2-489e383bc924",
   "metadata": {
    "id": "e53736c5-a2c0-4610-bab2-489e383bc924",
    "outputId": "968307fb-5673-4b09-a61a-c8f44badc0d6"
   },
   "outputs": [
    {
     "name": "stdout",
     "output_type": "stream",
     "text": [
      "(1797, 64)\n",
      "(1797, 7)\n"
     ]
    }
   ],
   "source": [
    "#code\n",
    "from sklearn.datasets import load_digits\n",
    "from sklearn.feature_selection import SelectPercentile, chi2\n",
    "X, y = load_digits(return_X_y=True)\n",
    "print(X.shape)\n",
    "X_new = SelectPercentile(chi2, percentile=10).fit_transform(X, y)\n",
    "print(X_new.shape)"
   ]
  },
  {
   "cell_type": "code",
   "execution_count": 24,
   "id": "583786bf",
   "metadata": {
    "id": "583786bf",
    "outputId": "18886860-f341-4543-eef8-bd097889a919"
   },
   "outputs": [
    {
     "name": "stdout",
     "output_type": "stream",
     "text": [
      "(1797, 64)\n",
      "(1797, 20)\n"
     ]
    }
   ],
   "source": [
    "from sklearn.datasets import load_digits\n",
    "from sklearn.feature_selection import SelectKBest, chi2\n",
    "X, y = load_digits(return_X_y=True)\n",
    "print(X.shape)\n",
    "X_new = SelectKBest(chi2, k=20).fit_transform(X, y)\n",
    "print(X_new.shape)"
   ]
  },
  {
   "cell_type": "markdown",
   "id": "b8975eed-1d0a-49fd-994c-448c90941f72",
   "metadata": {
    "id": "b8975eed-1d0a-49fd-994c-448c90941f72"
   },
   "source": [
    "<h3>Q13: Apply Pearson Correlation Coefficient/Spearman’s rank coefficient and find\n",
    "Correlation-Matrix with Heatmap </h3>"
   ]
  },
  {
   "cell_type": "code",
   "execution_count": 25,
   "id": "aa2b4ddd-9bbf-45c7-820a-158960fa7f1e",
   "metadata": {
    "id": "aa2b4ddd-9bbf-45c7-820a-158960fa7f1e",
    "outputId": "7e741852-ddfc-400f-d5da-54e7dd79e974"
   },
   "outputs": [
    {
     "name": "stdout",
     "output_type": "stream",
     "text": [
      "Pearsons correlation: 0.888\n"
     ]
    }
   ],
   "source": [
    "#code\n",
    "# calculate the Pearson's correlation between two variables\n",
    "from numpy.random import randn\n",
    "from numpy.random import seed\n",
    "from scipy.stats import pearsonr\n",
    "# seed random number generator\n",
    "seed(1)\n",
    "# prepare data\n",
    "data1 = 20 * randn(1000) + 100\n",
    "data2 = data1 + (10 * randn(1000) + 50)\n",
    "# calculate Pearson's correlation\n",
    "corr, _ = pearsonr(data1, data2)\n",
    "print('Pearsons correlation: %.3f' % corr)"
   ]
  },
  {
   "cell_type": "code",
   "execution_count": 55,
   "id": "a7e0b63b",
   "metadata": {
    "id": "a7e0b63b",
    "outputId": "f2f4f6da-4ffc-459d-d83b-e4bb01aa9eee"
   },
   "outputs": [
    {
     "data": {
      "image/png": "[encoded data removed]",
      "text/plain": [
       "<Figure size 1000x800 with 2 Axes>"
      ]
     },
     "metadata": {},
     "output_type": "display_data"
    }
   ],
   "source": [
    "import seaborn as sns\n",
    "import matplotlib.pyplot as plt\n",
    "import pandas as pd\n",
    "from sklearn.datasets import load_iris\n",
    "\n",
    "# Load the Iris dataset (as an example)\n",
    "iris = load_iris()\n",
    "X = pd.DataFrame(iris.data, columns=iris.feature_names)\n",
    "\n",
    "# Calculate the correlation matrix using Pearson correlation\n",
    "correlation_matrix = X.corr(method='pearson')\n",
    "\n",
    "# Create a heatmap using seaborn\n",
    "sns.heatmap(correlation_matrix)\n",
    "plt.title('Correlation Matrix using Pearson Correlation Heatmap')\n",
    "plt.show()\n",
    "\n",
    "\n"
   ]
  },
  {
   "cell_type": "code",
   "execution_count": 27,
   "id": "8df55d80",
   "metadata": {
    "id": "8df55d80",
    "outputId": "c030b7c1-e649-4084-c9fb-9b07e3e1d026"
   },
   "outputs": [
    {
     "data": {
      "image/png": "[encoded data removed]",
      "text/plain": [
       "<Figure size 1000x800 with 2 Axes>"
      ]
     },
     "metadata": {},
     "output_type": "display_data"
    }
   ],
   "source": [
    "import seaborn as sns\n",
    "import matplotlib.pyplot as plt\n",
    "import pandas as pd\n",
    "from sklearn.datasets import load_iris\n",
    "\n",
    "# Load the Iris dataset (as an example)\n",
    "iris = load_iris()\n",
    "X = pd.DataFrame(iris.data, columns=iris.feature_names)\n",
    "\n",
    "# Calculate the covariance matrix\n",
    "cov_matrix = X.cov()\n",
    "\n",
    "# Create a heatmap using seaborn\n",
    "plt.figure(figsize=(10, 8))\n",
    "sns.heatmap(cov_matrix, annot=True, cmap='coolwarm', fmt=\".2f\", linewidths=.5)\n",
    "plt.title('Covariance Matrix Heatmap')\n",
    "plt.show()\n"
   ]
  },
  {
   "cell_type": "code",
   "execution_count": 28,
   "id": "74dbadc2",
   "metadata": {
    "id": "74dbadc2",
    "outputId": "f5f87cb4-57ee-4d6b-df3a-99e23357104b"
   },
   "outputs": [
    {
     "data": {
      "image/png": "[encoded data removed]",
      "text/plain": [
       "<Figure size 1000x800 with 2 Axes>"
      ]
     },
     "metadata": {},
     "output_type": "display_data"
    }
   ],
   "source": [
    "import seaborn as sns\n",
    "import matplotlib.pyplot as plt\n",
    "import pandas as pd\n",
    "import numpy as np\n",
    "\n",
    "# Create a sample DataFrame\n",
    "data = {'Feature1': np.random.rand(100),\n",
    "        'Feature2': np.random.rand(100),\n",
    "        'Feature3': np.random.rand(100),\n",
    "        'Feature4': np.random.rand(100)}\n",
    "\n",
    "df = pd.DataFrame(data)\n",
    "\n",
    "# Calculate the correlation matrix\n",
    "correlation_matrix = df.corr()\n",
    "\n",
    "# Create a heatmap of the correlation matrix\n",
    "plt.figure(figsize=(10, 8))\n",
    "sns.heatmap(correlation_matrix, annot=True, cmap='coolwarm', fmt=\".2f\", linewidths=.5)\n",
    "plt.title('Correlation Matrix Heatmap')\n",
    "plt.show()\n"
   ]
  },
  {
   "cell_type": "markdown",
   "id": "64c111a8-380a-42dd-ae6d-1e6c19afa512",
   "metadata": {
    "id": "64c111a8-380a-42dd-ae6d-1e6c19afa512"
   },
   "source": [
    "<h3>Q14: Apply Principal Component Analysis(PCA) for matrix factorization </h3>"
   ]
  },
  {
   "cell_type": "code",
   "execution_count": 29,
   "id": "0c1890ff-8845-4bac-9bdb-b7d154d8d71d",
   "metadata": {
    "id": "0c1890ff-8845-4bac-9bdb-b7d154d8d71d"
   },
   "outputs": [],
   "source": [
    "#code"
   ]
  },
  {
   "cell_type": "code",
   "execution_count": 30,
   "id": "b6787ded",
   "metadata": {
    "id": "b6787ded",
    "outputId": "9ea0f40f-05d9-4559-d9a2-77165c960d95"
   },
   "outputs": [
    {
     "data": {
      "image/png": "[encoded data removed]",
      "text/plain": [
       "<Figure size 800x600 with 1 Axes>"
      ]
     },
     "metadata": {},
     "output_type": "display_data"
    }
   ],
   "source": [
    "from sklearn.datasets import load_iris\n",
    "from sklearn.decomposition import PCA\n",
    "import matplotlib.pyplot as plt\n",
    "\n",
    "# Load the Iris dataset (as an example)\n",
    "iris = load_iris()\n",
    "X = iris.data\n",
    "y = iris.target\n",
    "\n",
    "# Initialize PCA with the desired number of components\n",
    "pca = PCA(n_components=2)\n",
    "\n",
    "# Fit and transform the data\n",
    "X_pca = pca.fit_transform(X)\n",
    "\n",
    "# Plot the results\n",
    "plt.figure(figsize=(8, 6))\n",
    "\n",
    "for label in np.unique(y):\n",
    "    plt.scatter(X_pca[y == label, 0], X_pca[y == label, 1], label=f'Class {label}')\n",
    "\n",
    "plt.title('PCA for Feature Extraction')\n",
    "plt.xlabel('Principal Component 1')\n",
    "plt.ylabel('Principal Component 2')\n",
    "plt.legend()\n",
    "plt.show()\n"
   ]
  },
  {
   "cell_type": "markdown",
   "id": "1360c52c-f637-410e-b41e-e14f2a705241",
   "metadata": {
    "id": "1360c52c-f637-410e-b41e-e14f2a705241"
   },
   "source": [
    "<h3>Q15: Apply Linear Discriminant Analysis (LDA) to perform feature extraction </h3>"
   ]
  },
  {
   "cell_type": "code",
   "execution_count": 31,
   "id": "96c27659-9280-44a0-ab03-973dadfef2e3",
   "metadata": {
    "id": "96c27659-9280-44a0-ab03-973dadfef2e3",
    "outputId": "c67e6c78-f01e-4288-a18a-fa88e9268aee"
   },
   "outputs": [
    {
     "data": {
      "image/png": "[encoded data removed]",
      "text/plain": [
       "<Figure size 800x600 with 1 Axes>"
      ]
     },
     "metadata": {},
     "output_type": "display_data"
    }
   ],
   "source": [
    "#code\n",
    "from sklearn.datasets import load_iris\n",
    "from sklearn.discriminant_analysis import LinearDiscriminantAnalysis\n",
    "import matplotlib.pyplot as plt\n",
    "\n",
    "# Load the Iris dataset (as an example)\n",
    "iris = load_iris()\n",
    "X = iris.data\n",
    "y = iris.target\n",
    "\n",
    "# Initialize LDA\n",
    "lda = LinearDiscriminantAnalysis(n_components=2)\n",
    "\n",
    "# Fit and transform the data\n",
    "X_lda = lda.fit_transform(X, y)\n",
    "\n",
    "# Plot the results\n",
    "plt.figure(figsize=(8, 6))\n",
    "\n",
    "for label in np.unique(y):\n",
    "    plt.scatter(X_lda[y == label, 0], X_lda[y == label, 1], label=f'Class {label}')\n",
    "\n",
    "plt.title('LDA for Feature Extraction')\n",
    "plt.xlabel('LDA Component 1')\n",
    "plt.ylabel('LDA Component 2')\n",
    "plt.legend()\n",
    "plt.show()\n"
   ]
  },
  {
   "cell_type": "code",
   "execution_count": null,
   "id": "c9e16a34",
   "metadata": {
    "id": "c9e16a34"
   },
   "outputs": [],
   "source": []
  },
  {
   "cell_type": "code",
   "execution_count": null,
   "id": "727b2694-0700-4902-b8be-89187eca868f",
   "metadata": {},
   "outputs": [],
   "source": []
  }
 ],
 "metadata": {
  "colab": {
   "provenance": []
  },
  "kernelspec": {
   "display_name": "Python 3 (ipykernel)",
   "language": "python",
   "name": "python3"
  },
  "language_info": {
   "codemirror_mode": {
    "name": "ipython",
    "version": 3
   },
   "file_extension": ".py",
   "mimetype": "text/x-python",
   "name": "python",
   "nbconvert_exporter": "python",
   "pygments_lexer": "ipython3",
   "version": "3.9.10"
  }
 },
 "nbformat": 4,
 "nbformat_minor": 5
}
