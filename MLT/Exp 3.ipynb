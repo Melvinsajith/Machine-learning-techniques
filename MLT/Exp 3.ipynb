{
 "cells": [
  {
   "cell_type": "code",
   "execution_count": 36,
   "id": "f72a17e1-dbc5-41f9-8bfd-30691c62593c",
   "metadata": {},
   "outputs": [
    {
     "name": "stdout",
     "output_type": "stream",
     "text": [
      "    Loan_ID Gender Married Dependents     Education Self_Employed  \\\n",
      "0  LP001002   Male      No          0      Graduate            No   \n",
      "1  LP001003   Male     Yes          1      Graduate            No   \n",
      "2  LP001005   Male     Yes          0      Graduate           Yes   \n",
      "3  LP001006   Male     Yes          0  Not Graduate            No   \n",
      "4  LP001008   Male      No          0      Graduate            No   \n",
      "\n",
      "   ApplicantIncome  CoapplicantIncome  LoanAmount  Loan_Amount_Term  \\\n",
      "0             5849                0.0         NaN             360.0   \n",
      "1             4583             1508.0       128.0             360.0   \n",
      "2             3000                0.0        66.0             360.0   \n",
      "3             2583             2358.0       120.0             360.0   \n",
      "4             6000                0.0       141.0             360.0   \n",
      "\n",
      "   Credit_History Property_Area Loan_Status  \n",
      "0             1.0         Urban           Y  \n",
      "1             1.0         Rural           N  \n",
      "2             1.0         Urban           Y  \n",
      "3             1.0         Urban           Y  \n",
      "4             1.0         Urban           Y  \n"
     ]
    }
   ],
   "source": [
    "import numpy as np\n",
    "import pandas as pd\n",
    "import matplotlib.pyplot as plt\n",
    "from sklearn.linear_model import LinearRegression\n",
    "from sklearn.model_selection import train_test_split\n",
    "from sklearn.metrics import mean_squared_error, r2_score\n",
    "from sklearn.metrics import mean_absolute_error,mean_squared_error,r2_score,f1_score\n",
    "df = pd.read_csv(\"loan.csv\")\n",
    "print(df.head())"
   ]
  },
  {
   "cell_type": "code",
   "execution_count": 7,
   "id": "20d348f8-aa00-4c79-862a-89c1876a2343",
   "metadata": {},
   "outputs": [
    {
     "name": "stdout",
     "output_type": "stream",
     "text": [
      "<class 'pandas.core.frame.DataFrame'>\n",
      "Index: 592 entries, 1 to 613\n",
      "Data columns (total 13 columns):\n",
      " #   Column             Non-Null Count  Dtype  \n",
      "---  ------             --------------  -----  \n",
      " 0   Loan_ID            592 non-null    object \n",
      " 1   Gender             579 non-null    object \n",
      " 2   Married            590 non-null    object \n",
      " 3   Dependents         579 non-null    object \n",
      " 4   Education          592 non-null    object \n",
      " 5   Self_Employed      561 non-null    object \n",
      " 6   ApplicantIncome    592 non-null    int64  \n",
      " 7   CoapplicantIncome  592 non-null    float64\n",
      " 8   LoanAmount         592 non-null    float64\n",
      " 9   Loan_Amount_Term   578 non-null    float64\n",
      " 10  Credit_History     543 non-null    float64\n",
      " 11  Property_Area      592 non-null    object \n",
      " 12  Loan_Status        592 non-null    object \n",
      "dtypes: float64(4), int64(1), object(8)\n",
      "memory usage: 64.8+ KB\n",
      "None\n"
     ]
    }
   ],
   "source": [
    "# Handle missing values (if any)\n",
    "df = df.dropna(subset=['ApplicantIncome', 'LoanAmount'])  \n",
    "print(df.info())\n"
   ]
  },
  {
   "cell_type": "code",
   "execution_count": 8,
   "id": "d9184787-83de-4995-9ee5-6259a22d12ab",
   "metadata": {},
   "outputs": [
    {
     "name": "stdout",
     "output_type": "stream",
     "text": [
      "[[4583]\n",
      " [3000]\n",
      " [2583]\n",
      " [6000]\n",
      " [5417]]\n",
      "[128.  66. 120. 141. 267.]\n"
     ]
    }
   ],
   "source": [
    "# Select relevant numerical features\n",
    "X = df[['ApplicantIncome']].values \n",
    "y = df['LoanAmount'].values \n",
    "\n",
    "print(X[:5])\n",
    "print(y[:5])\n"
   ]
  },
  {
   "cell_type": "code",
   "execution_count": 9,
   "id": "264662fd-4e2a-42de-9019-6581d277edd3",
   "metadata": {},
   "outputs": [
    {
     "name": "stdout",
     "output_type": "stream",
     "text": [
      "b0 (Intercept): 103.7029\n",
      "b1 (Slope): 0.0082\n"
     ]
    }
   ],
   "source": [
    "# Split the dataset into training and testing sets\n",
    "X_train, X_test, y_train, y_test = train_test_split(X, y, test_size=0.2, random_state=42)\n",
    "\n",
    "model = LinearRegression()\n",
    "model.fit(X_train, y_train)\n",
    "\n",
    "b1 = model.coef_[0]  \n",
    "b0 = model.intercept_ \n",
    "\n",
    "print(f\"b0 (Intercept): {b0:.4f}\")\n",
    "print(f\"b1 (Slope): {b1:.4f}\")\n"
   ]
  },
  {
   "cell_type": "code",
   "execution_count": 10,
   "id": "e3033f8d-3a6b-4e8c-b06c-a3fc4d6145b7",
   "metadata": {},
   "outputs": [
    {
     "name": "stdout",
     "output_type": "stream",
     "text": [
      "SSE (Sum of Squared Errors): 2507795.6059\n"
     ]
    }
   ],
   "source": [
    "# Predictions on training set\n",
    "y_pred_train = model.predict(X_train)\n",
    "\n",
    "sse = np.sum((y_train - y_pred_train) ** 2)\n",
    "print(f\"SSE (Sum of Squared Errors): {sse:.4f}\")\n"
   ]
  },
  {
   "cell_type": "code",
   "execution_count": 11,
   "id": "bdb1ccb4-cecc-496d-9aeb-11d3c6572689",
   "metadata": {},
   "outputs": [
    {
     "name": "stdout",
     "output_type": "stream",
     "text": [
      "RMSE (Root Mean Square Error): 72.8141\n"
     ]
    }
   ],
   "source": [
    "# Calculate RMSE\n",
    "rmse = np.sqrt(mean_squared_error(y_train, y_pred_train))\n",
    "print(f\"RMSE (Root Mean Square Error): {rmse:.4f}\")\n"
   ]
  },
  {
   "cell_type": "code",
   "execution_count": 12,
   "id": "e38ae508-c965-4b47-8295-691ec2aed534",
   "metadata": {},
   "outputs": [
    {
     "name": "stdout",
     "output_type": "stream",
     "text": [
      "R² Score: 0.3521\n"
     ]
    }
   ],
   "source": [
    "# Calculate R^2 score\n",
    "r2 = r2_score(y_train, y_pred_train)\n",
    "print(f\"R² Score: {r2:.4f}\")\n"
   ]
  },
  {
   "cell_type": "code",
   "execution_count": 13,
   "id": "127558d5-7784-4708-aee5-7abfffd6234f",
   "metadata": {},
   "outputs": [
    {
     "data": {
      "image/png": "[encoded data removed]",
      "text/plain": [
       "<Figure size 640x480 with 1 Axes>"
      ]
     },
     "metadata": {},
     "output_type": "display_data"
    }
   ],
   "source": [
    "# Visualization: Actual vs Predicted\n",
    "plt.scatter(X_train, y_train, color='blue', label='Actual Data')\n",
    "plt.plot(X_train, y_pred_train, color='red', label='Regression Line')\n",
    "plt.xlabel(\"Applicant Income\")\n",
    "plt.ylabel(\"Loan Amount\")\n",
    "plt.legend()\n",
    "plt.title(\"Linear Regression: Applicant Income vs Loan Amount\")\n",
    "plt.show()\n"
   ]
  },
  {
   "cell_type": "code",
   "execution_count": 17,
   "id": "543b1639-a076-4b8a-ba1c-d5033defc2c3",
   "metadata": {},
   "outputs": [
    {
     "name": "stdout",
     "output_type": "stream",
     "text": [
      "Predicted Loan Amount for Applicant Income 5000: 144.8899\n"
     ]
    }
   ],
   "source": [
    "# Predict loan amount for a new applicant income\n",
    "new_income = np.array([[5000]])  # Example income\n",
    "predicted_loan = model.predict(new_income)\n",
    "\n",
    "print(f\"Predicted Loan Amount for Applicant Income {new_income[0][0]}: {predicted_loan[0]:.4f}\")\n"
   ]
  },
  {
   "cell_type": "code",
   "execution_count": 18,
   "id": "c229eb52-7a5e-43e4-a2bf-c8552ec62d8a",
   "metadata": {},
   "outputs": [
    {
     "name": "stdout",
     "output_type": "stream",
     "text": [
      "   Wine  Alcohol  Malic.acid   Ash   Acl   Mg  Phenols  Flavanoids  \\\n",
      "0     1    14.23        1.71  2.43  15.6  127     2.80        3.06   \n",
      "1     1    13.20        1.78  2.14  11.2  100     2.65        2.76   \n",
      "2     1    13.16        2.36  2.67  18.6  101     2.80        3.24   \n",
      "3     1    14.37        1.95  2.50  16.8  113     3.85        3.49   \n",
      "4     1    13.24        2.59  2.87  21.0  118     2.80        2.69   \n",
      "\n",
      "   Nonflavanoid.phenols  Proanth  Color.int   Hue    OD  Proline  \n",
      "0                  0.28     2.29       5.64  1.04  3.92     1065  \n",
      "1                  0.26     1.28       4.38  1.05  3.40     1050  \n",
      "2                  0.30     2.81       5.68  1.03  3.17     1185  \n",
      "3                  0.24     2.18       7.80  0.86  3.45     1480  \n",
      "4                  0.39     1.82       4.32  1.04  2.93      735  \n"
     ]
    }
   ],
   "source": [
    "import numpy as np\n",
    "import pandas as pd\n",
    "import matplotlib.pyplot as plt\n",
    "from sklearn.linear_model import LinearRegression\n",
    "from sklearn.model_selection import train_test_split\n",
    "from sklearn.metrics import mean_squared_error, r2_score\n",
    "\n",
    "df = pd.read_csv(\"wine.csv\")\n",
    "print(df.head())\n"
   ]
  },
  {
   "cell_type": "code",
   "execution_count": 19,
   "id": "3594fbfa-ea8c-4287-b1c9-ea24d1849948",
   "metadata": {},
   "outputs": [
    {
     "name": "stdout",
     "output_type": "stream",
     "text": [
      "<class 'pandas.core.frame.DataFrame'>\n",
      "RangeIndex: 178 entries, 0 to 177\n",
      "Data columns (total 14 columns):\n",
      " #   Column                Non-Null Count  Dtype  \n",
      "---  ------                --------------  -----  \n",
      " 0   Wine                  178 non-null    int64  \n",
      " 1   Alcohol               178 non-null    float64\n",
      " 2   Malic.acid            178 non-null    float64\n",
      " 3   Ash                   178 non-null    float64\n",
      " 4   Acl                   178 non-null    float64\n",
      " 5   Mg                    178 non-null    int64  \n",
      " 6   Phenols               178 non-null    float64\n",
      " 7   Flavanoids            178 non-null    float64\n",
      " 8   Nonflavanoid.phenols  178 non-null    float64\n",
      " 9   Proanth               178 non-null    float64\n",
      " 10  Color.int             178 non-null    float64\n",
      " 11  Hue                   178 non-null    float64\n",
      " 12  OD                    178 non-null    float64\n",
      " 13  Proline               178 non-null    int64  \n",
      "dtypes: float64(11), int64(3)\n",
      "memory usage: 19.6 KB\n",
      "None\n"
     ]
    }
   ],
   "source": [
    "# Handle missing values (if any)\n",
    "df = df.dropna() \n",
    "print(df.info())\n"
   ]
  },
  {
   "cell_type": "code",
   "execution_count": 20,
   "id": "4d3eee30-cc41-43b1-a84d-ec8100a4c3e4",
   "metadata": {},
   "outputs": [
    {
     "name": "stdout",
     "output_type": "stream",
     "text": [
      "   Alcohol  Malic.acid   Ash   Acl   Mg  Phenols  Flavanoids  \\\n",
      "0    14.23        1.71  2.43  15.6  127     2.80        3.06   \n",
      "1    13.20        1.78  2.14  11.2  100     2.65        2.76   \n",
      "2    13.16        2.36  2.67  18.6  101     2.80        3.24   \n",
      "3    14.37        1.95  2.50  16.8  113     3.85        3.49   \n",
      "4    13.24        2.59  2.87  21.0  118     2.80        2.69   \n",
      "\n",
      "   Nonflavanoid.phenols  Proanth  Color.int   Hue    OD  \n",
      "0                  0.28     2.29       5.64  1.04  3.92  \n",
      "1                  0.26     1.28       4.38  1.05  3.40  \n",
      "2                  0.30     2.81       5.68  1.03  3.17  \n",
      "3                  0.24     2.18       7.80  0.86  3.45  \n",
      "4                  0.39     1.82       4.32  1.04  2.93  \n",
      "0    1065\n",
      "1    1050\n",
      "2    1185\n",
      "3    1480\n",
      "4     735\n",
      "Name: Proline, dtype: int64\n"
     ]
    }
   ],
   "source": [
    "# Select independent variables (features) and dependent variable (target)\n",
    "X = df[['Alcohol', 'Malic.acid', 'Ash', 'Acl', 'Mg', 'Phenols', 'Flavanoids', \n",
    "        'Nonflavanoid.phenols', 'Proanth', 'Color.int', 'Hue', 'OD']]  # Independent variables\n",
    "y = df['Proline']  # Dependent variable\n",
    "\n",
    "# Display first 5 rows\n",
    "print(X.head())\n",
    "print(y.head())\n"
   ]
  },
  {
   "cell_type": "code",
   "execution_count": 21,
   "id": "13aac66a-3b0d-4342-9383-f92440308788",
   "metadata": {},
   "outputs": [
    {
     "name": "stdout",
     "output_type": "stream",
     "text": [
      "Intercept (b0): -1416.1371\n",
      "Coefficient for Alcohol (b1): 114.2732\n",
      "Coefficient for Malic.acid (b2): -19.2223\n",
      "Coefficient for Ash (b3): 237.9882\n",
      "Coefficient for Acl (b4): -29.6222\n",
      "Coefficient for Mg (b5): 2.9414\n",
      "Coefficient for Phenols (b6): 13.2045\n",
      "Coefficient for Flavanoids (b7): 18.8867\n",
      "Coefficient for Nonflavanoid.phenols (b8): -64.1991\n",
      "Coefficient for Proanth (b9): 4.2633\n",
      "Coefficient for Color.int (b10): 26.3087\n",
      "Coefficient for Hue (b11): 136.5582\n",
      "Coefficient for OD (b12): 45.5504\n"
     ]
    }
   ],
   "source": [
    "\n",
    "X_train, X_test, y_train, y_test = train_test_split(X, y, test_size=0.2, random_state=42)\n",
    "\n",
    "model = LinearRegression()\n",
    "model.fit(X_train, y_train)\n",
    "\n",
    "intercept = model.intercept_\n",
    "coefficients = model.coef_\n",
    "\n",
    "print(f\"Intercept (b0): {intercept:.4f}\")\n",
    "for i, col in enumerate(X.columns):\n",
    "    print(f\"Coefficient for {col} (b{i+1}): {coefficients[i]:.4f}\")\n"
   ]
  },
  {
   "cell_type": "code",
   "execution_count": 22,
   "id": "17b90246-0e7e-4b6f-89fa-1a26d0b1a814",
   "metadata": {},
   "outputs": [
    {
     "name": "stdout",
     "output_type": "stream",
     "text": [
      "First 5 Predicted Values:\n",
      "[928.85135972 399.6169566  684.26076912 815.2738239  827.90048877]\n"
     ]
    }
   ],
   "source": [
    "# Predictions on training set\n",
    "y_pred_train = model.predict(X_train)\n",
    "\n",
    "print(\"First 5 Predicted Values:\")\n",
    "print(y_pred_train[:5])\n"
   ]
  },
  {
   "cell_type": "code",
   "execution_count": 23,
   "id": "c49a8a92-ba8e-45a6-91bb-f06729f13a60",
   "metadata": {},
   "outputs": [
    {
     "name": "stdout",
     "output_type": "stream",
     "text": [
      "SSE (Sum of Squared Errors): 4771975.9940\n",
      "RMSE (Root Mean Square Error): 183.3179\n"
     ]
    }
   ],
   "source": [
    "# Calculate SSE\n",
    "sse = np.sum((y_train - y_pred_train) ** 2)\n",
    "\n",
    "rmse = np.sqrt(mean_squared_error(y_train, y_pred_train))\n",
    "\n",
    "print(f\"SSE (Sum of Squared Errors): {sse:.4f}\")\n",
    "print(f\"RMSE (Root Mean Square Error): {rmse:.4f}\")\n"
   ]
  },
  {
   "cell_type": "code",
   "execution_count": 24,
   "id": "f48d2b6f-5004-40a7-986c-62d763edbbd1",
   "metadata": {},
   "outputs": [
    {
     "name": "stdout",
     "output_type": "stream",
     "text": [
      "R² Score: 0.6297\n"
     ]
    }
   ],
   "source": [
    "# Calculate R^2 score\n",
    "r2 = r2_score(y_train, y_pred_train)\n",
    "\n",
    "print(f\"R² Score: {r2:.4f}\")\n"
   ]
  },
  {
   "cell_type": "code",
   "execution_count": 25,
   "id": "a24589b6-7b15-42d3-9f4b-05bbfd41374c",
   "metadata": {},
   "outputs": [
    {
     "name": "stdout",
     "output_type": "stream",
     "text": [
      "Predicted Proline for given input: 1222.3804\n"
     ]
    },
    {
     "name": "stderr",
     "output_type": "stream",
     "text": [
      "C:\\Users\\DELL\\AppData\\Local\\Programs\\Python\\Python39\\lib\\site-packages\\sklearn\\base.py:493: UserWarning: X does not have valid feature names, but LinearRegression was fitted with feature names\n",
      "  warnings.warn(\n"
     ]
    }
   ],
   "source": [
    "# Example input data (new observation)\n",
    "new_input = np.array([[14.23, 1.71, 2.43, 15.6, 127, 2.8, 3.06, 0.28, 2.29, 5.64, 1.04, 3.92]]) \n",
    "\n",
    "predicted_proline = model.predict(new_input)\n",
    "\n",
    "print(f\"Predicted Proline for given input: {predicted_proline[0]:.4f}\")\n"
   ]
  },
  {
   "cell_type": "code",
   "execution_count": 26,
   "id": "47ea16b2-30fb-4db2-9163-e253a1b8efae",
   "metadata": {},
   "outputs": [
    {
     "data": {
      "text/html": [
       "<div>\n",
       "<style scoped>\n",
       "    .dataframe tbody tr th:only-of-type {\n",
       "        vertical-align: middle;\n",
       "    }\n",
       "\n",
       "    .dataframe tbody tr th {\n",
       "        vertical-align: top;\n",
       "    }\n",
       "\n",
       "    .dataframe thead th {\n",
       "        text-align: right;\n",
       "    }\n",
       "</style>\n",
       "<table border=\"1\" class=\"dataframe\">\n",
       "  <thead>\n",
       "    <tr style=\"text-align: right;\">\n",
       "      <th></th>\n",
       "      <th>Loan_ID</th>\n",
       "      <th>Gender</th>\n",
       "      <th>Married</th>\n",
       "      <th>Dependents</th>\n",
       "      <th>Education</th>\n",
       "      <th>Self_Employed</th>\n",
       "      <th>ApplicantIncome</th>\n",
       "      <th>CoapplicantIncome</th>\n",
       "      <th>LoanAmount</th>\n",
       "      <th>Loan_Amount_Term</th>\n",
       "      <th>Credit_History</th>\n",
       "      <th>Property_Area</th>\n",
       "      <th>Loan_Status</th>\n",
       "    </tr>\n",
       "  </thead>\n",
       "  <tbody>\n",
       "    <tr>\n",
       "      <th>0</th>\n",
       "      <td>LP001002</td>\n",
       "      <td>Male</td>\n",
       "      <td>No</td>\n",
       "      <td>0</td>\n",
       "      <td>Graduate</td>\n",
       "      <td>No</td>\n",
       "      <td>5849</td>\n",
       "      <td>0.0</td>\n",
       "      <td>NaN</td>\n",
       "      <td>360.0</td>\n",
       "      <td>1.0</td>\n",
       "      <td>Urban</td>\n",
       "      <td>Y</td>\n",
       "    </tr>\n",
       "    <tr>\n",
       "      <th>1</th>\n",
       "      <td>LP001003</td>\n",
       "      <td>Male</td>\n",
       "      <td>Yes</td>\n",
       "      <td>1</td>\n",
       "      <td>Graduate</td>\n",
       "      <td>No</td>\n",
       "      <td>4583</td>\n",
       "      <td>1508.0</td>\n",
       "      <td>128.0</td>\n",
       "      <td>360.0</td>\n",
       "      <td>1.0</td>\n",
       "      <td>Rural</td>\n",
       "      <td>N</td>\n",
       "    </tr>\n",
       "    <tr>\n",
       "      <th>2</th>\n",
       "      <td>LP001005</td>\n",
       "      <td>Male</td>\n",
       "      <td>Yes</td>\n",
       "      <td>0</td>\n",
       "      <td>Graduate</td>\n",
       "      <td>Yes</td>\n",
       "      <td>3000</td>\n",
       "      <td>0.0</td>\n",
       "      <td>66.0</td>\n",
       "      <td>360.0</td>\n",
       "      <td>1.0</td>\n",
       "      <td>Urban</td>\n",
       "      <td>Y</td>\n",
       "    </tr>\n",
       "    <tr>\n",
       "      <th>3</th>\n",
       "      <td>LP001006</td>\n",
       "      <td>Male</td>\n",
       "      <td>Yes</td>\n",
       "      <td>0</td>\n",
       "      <td>Not Graduate</td>\n",
       "      <td>No</td>\n",
       "      <td>2583</td>\n",
       "      <td>2358.0</td>\n",
       "      <td>120.0</td>\n",
       "      <td>360.0</td>\n",
       "      <td>1.0</td>\n",
       "      <td>Urban</td>\n",
       "      <td>Y</td>\n",
       "    </tr>\n",
       "    <tr>\n",
       "      <th>4</th>\n",
       "      <td>LP001008</td>\n",
       "      <td>Male</td>\n",
       "      <td>No</td>\n",
       "      <td>0</td>\n",
       "      <td>Graduate</td>\n",
       "      <td>No</td>\n",
       "      <td>6000</td>\n",
       "      <td>0.0</td>\n",
       "      <td>141.0</td>\n",
       "      <td>360.0</td>\n",
       "      <td>1.0</td>\n",
       "      <td>Urban</td>\n",
       "      <td>Y</td>\n",
       "    </tr>\n",
       "  </tbody>\n",
       "</table>\n",
       "</div>"
      ],
      "text/plain": [
       "    Loan_ID Gender Married Dependents     Education Self_Employed  \\\n",
       "0  LP001002   Male      No          0      Graduate            No   \n",
       "1  LP001003   Male     Yes          1      Graduate            No   \n",
       "2  LP001005   Male     Yes          0      Graduate           Yes   \n",
       "3  LP001006   Male     Yes          0  Not Graduate            No   \n",
       "4  LP001008   Male      No          0      Graduate            No   \n",
       "\n",
       "   ApplicantIncome  CoapplicantIncome  LoanAmount  Loan_Amount_Term  \\\n",
       "0             5849                0.0         NaN             360.0   \n",
       "1             4583             1508.0       128.0             360.0   \n",
       "2             3000                0.0        66.0             360.0   \n",
       "3             2583             2358.0       120.0             360.0   \n",
       "4             6000                0.0       141.0             360.0   \n",
       "\n",
       "   Credit_History Property_Area Loan_Status  \n",
       "0             1.0         Urban           Y  \n",
       "1             1.0         Rural           N  \n",
       "2             1.0         Urban           Y  \n",
       "3             1.0         Urban           Y  \n",
       "4             1.0         Urban           Y  "
      ]
     },
     "execution_count": 26,
     "metadata": {},
     "output_type": "execute_result"
    }
   ],
   "source": [
    "import numpy as np\n",
    "import pandas as pd\n",
    "import matplotlib.pyplot as plt\n",
    "from sklearn.linear_model import LinearRegression\n",
    "from sklearn.model_selection import train_test_split\n",
    "from sklearn.metrics import mean_squared_error, r2_score\n",
    "\n",
    "# Load the dataset\n",
    "df = pd.read_csv(\"loan.csv\")\n",
    "df.head()"
   ]
  },
  {
   "cell_type": "code",
   "execution_count": 27,
   "id": "82d1be59-d9c6-4e89-b495-05cb143a4251",
   "metadata": {},
   "outputs": [],
   "source": [
    "X = df[['ApplicantIncome', 'CoapplicantIncome', 'Loan_Amount_Term']].values  \n",
    "y = df['LoanAmount'].values "
   ]
  },
  {
   "cell_type": "code",
   "execution_count": 28,
   "id": "27c8d34f-a3c9-48e6-ab78-2732f06dca66",
   "metadata": {},
   "outputs": [
    {
     "name": "stdout",
     "output_type": "stream",
     "text": [
      "\n",
      "Data Preprocessing Done!\n",
      "Total records after preprocessing: 578\n"
     ]
    }
   ],
   "source": [
    "# Handle missing values by dropping rows with NaN values\n",
    "df = df.dropna(subset=['ApplicantIncome', 'CoapplicantIncome', 'Loan_Amount_Term', 'LoanAmount'])\n",
    "\n",
    "# Select independent variables (X) and dependent variable (Y)\n",
    "X = df[['ApplicantIncome', 'CoapplicantIncome', 'Loan_Amount_Term']].values  # Independent variables\n",
    "y = df['LoanAmount'].values  # Dependent variable\n",
    "\n",
    "print(\"\\nData Preprocessing Done!\")\n",
    "print(f\"Total records after preprocessing: {len(df)}\")\n"
   ]
  },
  {
   "cell_type": "code",
   "execution_count": 29,
   "id": "66ca0dd8-fa77-4d67-95c7-c3a299f0b97b",
   "metadata": {},
   "outputs": [
    {
     "name": "stdout",
     "output_type": "stream",
     "text": [
      "\n",
      "Data Splitting Completed!\n",
      "Training set size: 462\n",
      "Testing set size: 116\n"
     ]
    }
   ],
   "source": [
    "# Splitting the dataset into 80% training and 20% testing\n",
    "X_train, X_test, y_train, y_test = train_test_split(X, y, test_size=0.2, random_state=42)\n",
    "\n",
    "print(\"\\nData Splitting Completed!\")\n",
    "print(f\"Training set size: {len(X_train)}\")\n",
    "print(f\"Testing set size: {len(X_test)}\")\n"
   ]
  },
  {
   "cell_type": "code",
   "execution_count": 30,
   "id": "a3a8d1af-b5d3-4bf8-896c-340f40cc7d05",
   "metadata": {},
   "outputs": [
    {
     "name": "stdout",
     "output_type": "stream",
     "text": [
      "\n",
      "Model Coefficients:\n",
      "Intercept (b0): 47.9209\n",
      "Coefficients (b1, b2, b3): [0.00800954 0.00688344 0.13336752]\n"
     ]
    }
   ],
   "source": [
    "# Initialize and train the model\n",
    "model = LinearRegression()\n",
    "model.fit(X_train, y_train)\n",
    "\n",
    "intercept = model.intercept_\n",
    "coefficients = model.coef_\n",
    "\n",
    "print(\"\\nModel Coefficients:\")\n",
    "print(f\"Intercept (b0): {intercept:.4f}\")\n",
    "print(f\"Coefficients (b1, b2, b3): {coefficients}\")\n"
   ]
  },
  {
   "cell_type": "code",
   "execution_count": 31,
   "id": "cfe86548-628e-43b4-80bc-ff26cfb0a782",
   "metadata": {},
   "outputs": [
    {
     "name": "stdout",
     "output_type": "stream",
     "text": [
      "[123.30979235 150.99878141 158.66529757 121.2353208  142.73241352]\n"
     ]
    }
   ],
   "source": [
    "# Predicting loan amount for training and testing sets\n",
    "y_pred_train = model.predict(X_train)\n",
    "y_pred_test = model.predict(X_test)\n",
    "\n",
    "print(y_pred_train[:5])\n"
   ]
  },
  {
   "cell_type": "code",
   "execution_count": 32,
   "id": "c2978d6f-2c39-407f-b045-1d262e1f6aca",
   "metadata": {},
   "outputs": [
    {
     "name": "stdout",
     "output_type": "stream",
     "text": [
      "\n",
      "Model Evaluation:\n",
      "SSE (Sum of Squared Errors): 399454.7797\n",
      "RMSE (Root Mean Square Error): 58.6820\n"
     ]
    }
   ],
   "source": [
    "# Compute SSE (Sum of Squared Errors) and RMSE (Root Mean Square Error)\n",
    "sse = np.sum((y_test - y_pred_test) ** 2)\n",
    "rmse = np.sqrt(mean_squared_error(y_test, y_pred_test))\n",
    "\n",
    "print(\"\\nModel Evaluation:\")\n",
    "print(f\"SSE (Sum of Squared Errors): {sse:.4f}\")\n",
    "print(f\"RMSE (Root Mean Square Error): {rmse:.4f}\")\n"
   ]
  },
  {
   "cell_type": "code",
   "execution_count": 33,
   "id": "8f74087c-dda5-446f-8107-bdb3bbbb84c6",
   "metadata": {},
   "outputs": [
    {
     "name": "stdout",
     "output_type": "stream",
     "text": [
      "R-squared (R²): 0.5658\n"
     ]
    }
   ],
   "source": [
    "# Calculate R-squared (coefficient of determination)\n",
    "r2 = r2_score(y_test, y_pred_test)\n",
    "\n",
    "print(f\"R-squared (R²): {r2:.4f}\")\n"
   ]
  },
  {
   "cell_type": "code",
   "execution_count": 34,
   "id": "89fd62ad-8493-4342-9b6a-eaf916bc2c0b",
   "metadata": {},
   "outputs": [
    {
     "name": "stdout",
     "output_type": "stream",
     "text": [
      "\n",
      "Predicted Loan Amount for given input: 149.74776763329004\n"
     ]
    }
   ],
   "source": [
    "# Predict for a sample input\n",
    "sample_input = np.array([[5000, 2000, 360]])  # Example: (ApplicantIncome=5000, CoapplicantIncome=2000, Loan_Amount_Term=360)\n",
    "predicted_output = model.predict(sample_input)\n",
    "\n",
    "print(\"\\nPredicted Loan Amount for given input:\", predicted_output[0])\n"
   ]
  },
  {
   "cell_type": "code",
   "execution_count": null,
   "id": "10a4a227-dc2e-4068-b75d-8a01830762e5",
   "metadata": {},
   "outputs": [],
   "source": []
  },
  {
   "cell_type": "code",
   "execution_count": null,
   "id": "6ad04ff8-1a08-4526-b2e2-4bae8ba26041",
   "metadata": {},
   "outputs": [],
   "source": []
  }
 ],
 "metadata": {
  "kernelspec": {
   "display_name": "Python 3 (ipykernel)",
   "language": "python",
   "name": "python3"
  },
  "language_info": {
   "codemirror_mode": {
    "name": "ipython",
    "version": 3
   },
   "file_extension": ".py",
   "mimetype": "text/x-python",
   "name": "python",
   "nbconvert_exporter": "python",
   "pygments_lexer": "ipython3",
   "version": "3.9.10"
  }
 },
 "nbformat": 4,
 "nbformat_minor": 5
}
