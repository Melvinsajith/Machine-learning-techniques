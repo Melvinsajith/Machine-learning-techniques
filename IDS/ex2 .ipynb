{
 "cells": [
  {
   "cell_type": "code",
   "execution_count": 1,
   "id": "c546af75-f2ba-4d04-8611-814aced690b2",
   "metadata": {},
   "outputs": [
    {
     "name": "stdout",
     "output_type": "stream",
     "text": [
      "The maximum value in the KM column is: 243000\n",
      "The minimum value in the Weight column is: 1000\n"
     ]
    }
   ],
   "source": [
    "import pandas as pd\n",
    "\n",
    "df = pd.read_csv('ToyotaCorolla.csv')\n",
    "\n",
    "max_km = df['KM'].max()\n",
    "print(f\"The maximum value in the KM column is: {max_km}\")\n",
    "\n",
    "min_weight = df['Weight'].min()\n",
    "print(f\"The minimum value in the Weight column is: {min_weight}\")"
   ]
  },
  {
   "cell_type": "code",
   "execution_count": 2,
   "id": "3a176536-37ed-4113-86b6-16bd4fc1bc69",
   "metadata": {},
   "outputs": [
    {
     "name": "stdout",
     "output_type": "stream",
     "text": [
      "The mean of the CC column is: 1576.8558495821726\n",
      "The median of the CC column is: 1600.0\n"
     ]
    }
   ],
   "source": [
    "mean_cc = df['cc'].mean()\n",
    "median_cc = df['cc'].median()\n",
    "print(f\"The mean of the CC column is: {mean_cc}\")\n",
    "print(f\"The median of the CC column is: {median_cc}\")"
   ]
  },
  {
   "cell_type": "code",
   "execution_count": 3,
   "id": "37fc58a8-2089-4801-b188-e99913308760",
   "metadata": {},
   "outputs": [
    {
     "name": "stdout",
     "output_type": "stream",
     "text": [
      "Updated DataFrame:\n",
      "        cc  Price\n",
      "0     2000  13500\n",
      "1     2000  13750\n",
      "2     2000  13950\n",
      "3     2000  14950\n",
      "4     2000  13750\n",
      "...    ...    ...\n",
      "1431  1300   7500\n",
      "1432  1300  10845\n",
      "1433  1300   8500\n",
      "1434  1300   7250\n",
      "1435  1600   6950\n",
      "\n",
      "[1436 rows x 2 columns]\n"
     ]
    }
   ],
   "source": [
    "df.loc[df['cc'] == 2000, 'Price'][:20] = 2000\n",
    "\n",
    "print(\"Updated DataFrame:\")\n",
    "print(df[['cc', 'Price']])\n"
   ]
  },
  {
   "cell_type": "code",
   "execution_count": 5,
   "id": "62ce1644-a5f5-4b6f-9650-9d455d38e5dc",
   "metadata": {},
   "outputs": [
    {
     "name": "stdout",
     "output_type": "stream",
     "text": [
      "       HP  Horse Power\n",
      "0      90        180.0\n",
      "1      90        180.0\n",
      "2      90        180.0\n",
      "3      90        180.0\n",
      "4      90        180.0\n",
      "...   ...          ...\n",
      "1431   86          NaN\n",
      "1432   86          NaN\n",
      "1433   86          NaN\n",
      "1434   86          NaN\n",
      "1435  110          NaN\n",
      "\n",
      "[1436 rows x 2 columns]\n"
     ]
    }
   ],
   "source": [
    "df.loc[:19, 'Horse Power'] = df.loc[:19, 'HP'] * 2\n",
    "print(df[['HP', 'Horse Power']])"
   ]
  },
  {
   "cell_type": "code",
   "execution_count": 6,
   "id": "624b7873-5eb9-4938-bfe6-d4e4f85e389f",
   "metadata": {},
   "outputs": [
    {
     "name": "stdout",
     "output_type": "stream",
     "text": [
      "    Price  Age_08_04    cc\n",
      "34  15500         22  1400\n",
      "31  15750         22  1400\n",
      "48  17950         22  2000\n",
      "47  15800         22  1400\n",
      "40  13950         22  1400\n",
      "42  13950         22  1400\n",
      "44  16950         22  2000\n",
      "11  19950         22  1800\n",
      "37  14950         23  1400\n",
      "0   13500         23  2000\n",
      "1   13750         23  2000\n",
      "45  19000         23  2000\n",
      "9   12950         23  1900\n",
      "17  17950         24  1600\n",
      "2   13950         24  2000\n",
      "18  16750         24  1600\n",
      "36  15950         25  1400\n",
      "25  15950         25  1600\n",
      "10  20950         25  1800\n",
      "12  19600         25  1800\n",
      "3   14950         26  2000\n",
      "35  15750         26  1400\n",
      "33  14950         26  1400\n",
      "41  16750         27  1400\n",
      "46  17950         27  2000\n",
      "39  14750         27  1400\n",
      "6   16900         27  2000\n",
      "26  17495         27  1600\n",
      "43  16950         27  2000\n",
      "8   21500         27  1800\n",
      "32  15950         27  1400\n",
      "23  16950         28  1600\n",
      "15  22000         28  1800\n",
      "28  16950         28  1600\n",
      "22  15950         28  1600\n",
      "24  16250         29  1600\n",
      "27  15750         29  1600\n",
      "21  16950         29  1600\n",
      "30  12950         29  1400\n",
      "29  17950         30  1600\n",
      "20  15950         30  1600\n",
      "19  16950         30  1600\n",
      "16  22750         30  1800\n",
      "7   18600         30  2000\n",
      "4   13750         30  2000\n",
      "13  21500         31  1800\n",
      "49  21950         31  1800\n",
      "38  15750         32  1400\n",
      "14  22500         32  1800\n",
      "5   12950         32  2000\n"
     ]
    }
   ],
   "source": [
    "display_cols = ['Price', 'Age_08_04', 'cc']\n",
    "sorted_df = df.loc[:49, display_cols].sort_values(by='Age_08_04')\n",
    "print(sorted_df)"
   ]
  },
  {
   "cell_type": "code",
   "execution_count": 7,
   "id": "e2bf826c-47e8-44a7-a9c1-fb36af56be3c",
   "metadata": {},
   "outputs": [
    {
     "name": "stdout",
     "output_type": "stream",
     "text": [
      "{('CNG', 0): [189, 387, 652, 1122], ('CNG', 1): [199, 209, 223, 296, 383, 436, 618, 622, 624, 650, 991, 1047, 1072], ('Diesel', 0): [3, 4, 5, 9, 43, 44, 45, 109, 186, 187, 191, 216, 378, 379, 380, 386, 393, 406, 416, 418, 447, 487, 604, 609, 616, 621, 628, 632, 634, 636, 639, 647, 654, 660, 682, 696, 710, 819, 866, 1044, 1045, 1050, 1051, 1052, 1053, 1055, 1059, 1063, 1069, 1078, 1083, 1085, 1097], ('Diesel', 1): [0, 1, 2, 6, 7, 46, 48, 50, 68, 87, 89, 91, 92, 95, 110, 111, 112, 113, 114, 115, 116, 118, 119, 121, 138, 188, 190, 192, 193, 194, 196, 197, 203, 204, 210, 211, 214, 237, 243, 268, 270, 272, 381, 382, 384, 388, 389, 390, 391, 396, 397, 401, 402, 412, 422, 458, 463, 465, 480, 601, 603, 606, 607, 608, 612, 613, 615, 617, 619, 625, 626, 627, 630, 631, 635, 644, 679, 707, 768, 785, 1046, 1048, 1049, 1054, 1058, 1066, 1070, 1071, 1073, 1074, 1080, 1081, 1082, 1092, 1108, 1109, 1118, 1195, 1202, 1216, ...], ('Petrol', 0): [8, 10, 11, 12, 15, 18, 21, 28, 35, 36, 39, 40, 42, 54, 56, 57, 61, 74, 77, 94, 102, 120, 124, 134, 135, 136, 145, 146, 148, 151, 159, 161, 165, 176, 179, 180, 207, 208, 230, 234, 236, 238, 246, 249, 250, 251, 255, 258, 262, 269, 277, 278, 287, 292, 295, 302, 305, 308, 312, 314, 319, 320, 332, 335, 337, 342, 345, 361, 366, 367, 370, 372, 394, 403, 409, 413, 415, 421, 424, 426, 427, 428, 435, 438, 439, 448, 450, 453, 454, 457, 459, 461, 462, 466, 467, 481, 482, 483, 484, 486, ...], ('Petrol', 1): [13, 14, 16, 17, 19, 20, 22, 23, 24, 25, 26, 27, 29, 30, 31, 32, 33, 34, 37, 38, 41, 47, 49, 51, 52, 53, 55, 58, 59, 60, 62, 63, 64, 65, 66, 67, 69, 70, 71, 72, 73, 75, 76, 78, 79, 80, 81, 82, 83, 84, 85, 86, 88, 90, 93, 96, 97, 98, 99, 100, 101, 103, 104, 105, 106, 107, 108, 117, 122, 123, 125, 126, 127, 128, 129, 130, 131, 132, 133, 137, 139, 140, 141, 142, 143, 144, 147, 149, 150, 152, 153, 154, 155, 156, 157, 158, 160, 162, 163, 164, ...]}\n"
     ]
    }
   ],
   "source": [
    "grouped_df = df.groupby(['Fuel_Type', 'Met_Color'])\n",
    "print(grouped_df.groups)"
   ]
  },
  {
   "cell_type": "code",
   "execution_count": 4,
   "id": "ccff13a1-ac01-4656-9b33-a7c9b7b6fcb5",
   "metadata": {},
   "outputs": [
    {
     "name": "stdout",
     "output_type": "stream",
     "text": [
      "Null value counts:\n",
      "Id                  0\n",
      "Model               0\n",
      "Price               0\n",
      "Age_08_04           0\n",
      "Mfg_Month           0\n",
      "Mfg_Year            0\n",
      "KM                  0\n",
      "Fuel_Type           0\n",
      "HP                  0\n",
      "Met_Color           0\n",
      "Automatic           0\n",
      "cc                  0\n",
      "Doors               0\n",
      "Cylinders           0\n",
      "Gears               0\n",
      "Quarterly_Tax       0\n",
      "Weight              0\n",
      "Mfr_Guarantee       0\n",
      "BOVAG_Guarantee     0\n",
      "Guarantee_Period    0\n",
      "ABS                 0\n",
      "Airbag_1            0\n",
      "Airbag_2            0\n",
      "Airco               0\n",
      "Automatic_airco     0\n",
      "Boardcomputer       0\n",
      "CD_Player           0\n",
      "Central_Lock        0\n",
      "Powered_Windows     0\n",
      "Power_Steering      0\n",
      "Radio               0\n",
      "Mistlamps           0\n",
      "Sport_Model         0\n",
      "Backseat_Divider    0\n",
      "Metallic_Rim        0\n",
      "Radio_cassette      0\n",
      "Tow_Bar             0\n",
      "dtype: int64\n"
     ]
    }
   ],
   "source": [
    "null_counts = df.isnull().sum()\n",
    "print(\"Null value counts:\")\n",
    "print(null_counts)\n",
    "\n",
    "df['cc'] = df['cc'].fillna(0)"
   ]
  },
  {
   "cell_type": "code",
   "execution_count": 8,
   "id": "3c8279d1-c9d0-4f03-a0e7-a9da38165e37",
   "metadata": {},
   "outputs": [
    {
     "name": "stdout",
     "output_type": "stream",
     "text": [
      "        Id                                              Model  Price     KM\n",
      "0        1      TOYOTA Corolla 2.0 D4D HATCHB TERRA 2/3-Doors  13500  46986\n",
      "1        2      TOYOTA Corolla 2.0 D4D HATCHB TERRA 2/3-Doors  13750  72937\n",
      "2        3     ?TOYOTA Corolla 2.0 D4D HATCHB TERRA 2/3-Doors  13950  41711\n",
      "3        4      TOYOTA Corolla 2.0 D4D HATCHB TERRA 2/3-Doors  14950  48000\n",
      "4        5        TOYOTA Corolla 2.0 D4D HATCHB SOL 2/3-Doors  13750  38500\n",
      "...    ...                                                ...    ...    ...\n",
      "1434  1441  TOYOTA Corolla 1.3 16V HATCHB LINEA TERRA 2/3-...   7250  16916\n",
      "1435  1442        TOYOTA Corolla 1.6 LB LINEA TERRA 4/5-Doors   6950      1\n",
      "1436     1                                            Corolla  25000  50000\n",
      "1437     2                                              Camry  30000  75000\n",
      "1438     3                                               RAV4  35000  40000\n",
      "\n",
      "[1439 rows x 4 columns]\n"
     ]
    }
   ],
   "source": [
    "new_data = {\n",
    "    'Id': [1, 2, 3],\n",
    "    'Model': ['Corolla', 'Camry', 'RAV4'],\n",
    "    'Price': [25000, 30000, 35000],\n",
    "    'KM': [50000, 75000, 40000],\n",
    "}\n",
    "\n",
    "df = pd.concat([df, pd.DataFrame(new_data)], ignore_index=True)\n",
    "print(df[['Id', 'Model','Price','KM']])"
   ]
  },
  {
   "cell_type": "code",
   "execution_count": 7,
   "id": "9d8f9daf-a03e-4131-88fd-e0f6620905a9",
   "metadata": {},
   "outputs": [
    {
     "name": "stdout",
     "output_type": "stream",
     "text": [
      "        Id                                              Model  Price  \\\n",
      "0        1      TOYOTA Corolla 2.0 D4D HATCHB TERRA 2/3-Doors  13500   \n",
      "1        2      TOYOTA Corolla 2.0 D4D HATCHB TERRA 2/3-Doors  13750   \n",
      "2        3     ?TOYOTA Corolla 2.0 D4D HATCHB TERRA 2/3-Doors  13950   \n",
      "3        4      TOYOTA Corolla 2.0 D4D HATCHB TERRA 2/3-Doors  14950   \n",
      "4        5        TOYOTA Corolla 2.0 D4D HATCHB SOL 2/3-Doors  13750   \n",
      "...    ...                                                ...    ...   \n",
      "1431  1438         TOYOTA Corolla 1.3 16V HATCHB G6 2/3-Doors   7500   \n",
      "1432  1439  TOYOTA Corolla 1.3 16V HATCHB LINEA TERRA 2/3-...  10845   \n",
      "1433  1440  TOYOTA Corolla 1.3 16V HATCHB LINEA TERRA 2/3-...   8500   \n",
      "1434  1441  TOYOTA Corolla 1.3 16V HATCHB LINEA TERRA 2/3-...   7250   \n",
      "1435  1442        TOYOTA Corolla 1.6 LB LINEA TERRA 4/5-Doors   6950   \n",
      "\n",
      "      Age_08_04  Mfg_Month  Mfg_Year     KM Fuel_Type  Met_Color  Automatic  \\\n",
      "0            23         10      2002  46986    Diesel          1          0   \n",
      "1            23         10      2002  72937    Diesel          1          0   \n",
      "2            24          9      2002  41711    Diesel          1          0   \n",
      "3            26          7      2002  48000    Diesel          0          0   \n",
      "4            30          3      2002  38500    Diesel          0          0   \n",
      "...         ...        ...       ...    ...       ...        ...        ...   \n",
      "1431         69         12      1998  20544    Petrol          1          0   \n",
      "1432         72          9      1998  19000    Petrol          0          0   \n",
      "1433         71         10      1998  17016    Petrol          0          0   \n",
      "1434         70         11      1998  16916    Petrol          1          0   \n",
      "1435         76          5      1998      1    Petrol          0          0   \n",
      "\n",
      "      ...  Central_Lock  Powered_Windows  Power_Steering  Radio  Mistlamps  \\\n",
      "0     ...             1                1               1      0          0   \n",
      "1     ...             1                0               1      0          0   \n",
      "2     ...             0                0               1      0          0   \n",
      "3     ...             0                0               1      0          0   \n",
      "4     ...             1                1               1      0          1   \n",
      "...   ...           ...              ...             ...    ...        ...   \n",
      "1431  ...             1                1               1      0          1   \n",
      "1432  ...             0                0               1      0          0   \n",
      "1433  ...             0                0               1      0          0   \n",
      "1434  ...             0                0               0      0          0   \n",
      "1435  ...             0                0               1      0          0   \n",
      "\n",
      "      Sport_Model  Backseat_Divider  Metallic_Rim  Radio_cassette  Tow_Bar  \n",
      "0               0                 1             0               0        0  \n",
      "1               0                 1             0               0        0  \n",
      "2               0                 1             0               0        0  \n",
      "3               0                 1             0               0        0  \n",
      "4               0                 1             0               0        0  \n",
      "...           ...               ...           ...             ...      ...  \n",
      "1431            1                 1             0               0        0  \n",
      "1432            1                 1             0               0        0  \n",
      "1433            0                 1             0               0        0  \n",
      "1434            0                 1             0               0        0  \n",
      "1435            0                 0             0               0        0  \n",
      "\n",
      "[1436 rows x 36 columns]\n"
     ]
    }
   ],
   "source": [
    "import pandas as pd\n",
    "\n",
    "df = pd.read_csv('ToyotaCorolla.csv')\n",
    "new_df = df.copy()\n",
    "new_df = new_df.drop('HP', axis=1)\n",
    "print(new_df)"
   ]
  },
  {
   "cell_type": "code",
   "execution_count": 5,
   "id": "8c6e3e70-bab2-4935-8156-75a00fa1fb9a",
   "metadata": {},
   "outputs": [
    {
     "name": "stdout",
     "output_type": "stream",
     "text": [
      "        Id                                              Model  Price  \\\n",
      "0        1      TOYOTA Corolla 2.0 D4D HATCHB TERRA 2/3-Doors  13500   \n",
      "1        2      TOYOTA Corolla 2.0 D4D HATCHB TERRA 2/3-Doors  13750   \n",
      "2        3     ?TOYOTA Corolla 2.0 D4D HATCHB TERRA 2/3-Doors  13950   \n",
      "3        4      TOYOTA Corolla 2.0 D4D HATCHB TERRA 2/3-Doors  14950   \n",
      "4        5        TOYOTA Corolla 2.0 D4D HATCHB SOL 2/3-Doors  13750   \n",
      "...    ...                                                ...    ...   \n",
      "1431  1438         TOYOTA Corolla 1.3 16V HATCHB G6 2/3-Doors   7500   \n",
      "1432  1439  TOYOTA Corolla 1.3 16V HATCHB LINEA TERRA 2/3-...  10845   \n",
      "1433  1440  TOYOTA Corolla 1.3 16V HATCHB LINEA TERRA 2/3-...   8500   \n",
      "1434  1441  TOYOTA Corolla 1.3 16V HATCHB LINEA TERRA 2/3-...   7250   \n",
      "1435  1442        TOYOTA Corolla 1.6 LB LINEA TERRA 4/5-Doors   6950   \n",
      "\n",
      "      Age_08_04  Mfg_Month  Mfg_Year     KM Fuel_Type   HP  Met_Color  ...  \\\n",
      "0            23         10      2002  46986    Diesel   90          1  ...   \n",
      "1            23         10      2002  72937    Diesel   90          1  ...   \n",
      "2            24          9      2002  41711    Diesel   90          1  ...   \n",
      "3            26          7      2002  48000    Diesel   90          0  ...   \n",
      "4            30          3      2002  38500    Diesel   90          0  ...   \n",
      "...         ...        ...       ...    ...       ...  ...        ...  ...   \n",
      "1431         69         12      1998  20544    Petrol   86          1  ...   \n",
      "1432         72          9      1998  19000    Petrol   86          0  ...   \n",
      "1433         71         10      1998  17016    Petrol   86          0  ...   \n",
      "1434         70         11      1998  16916    Petrol   86          1  ...   \n",
      "1435         76          5      1998      1    Petrol  110          0  ...   \n",
      "\n",
      "      Central_Lock  Powered_Windows  Power_Steering  Radio  Mistlamps  \\\n",
      "0                1                1               1      0          0   \n",
      "1                1                0               1      0          0   \n",
      "2                0                0               1      0          0   \n",
      "3                0                0               1      0          0   \n",
      "4                1                1               1      0          1   \n",
      "...            ...              ...             ...    ...        ...   \n",
      "1431             1                1               1      0          1   \n",
      "1432             0                0               1      0          0   \n",
      "1433             0                0               1      0          0   \n",
      "1434             0                0               0      0          0   \n",
      "1435             0                0               1      0          0   \n",
      "\n",
      "      Sport_Model  Backseat_Divider  Metallic_Rim  Radio_cassette  Tow_Bar  \n",
      "0               0                 1             0               0        0  \n",
      "1               0                 1             0               0        0  \n",
      "2               0                 1             0               0        0  \n",
      "3               0                 1             0               0        0  \n",
      "4               0                 1             0               0        0  \n",
      "...           ...               ...           ...             ...      ...  \n",
      "1431            1                 1             0               0        0  \n",
      "1432            1                 1             0               0        0  \n",
      "1433            0                 1             0               0        0  \n",
      "1434            0                 1             0               0        0  \n",
      "1435            0                 0             0               0        0  \n",
      "\n",
      "[1434 rows x 37 columns]\n"
     ]
    }
   ],
   "source": [
    "import pandas as pd\n",
    "\n",
    "df = pd.read_csv('ToyotaCorolla.csv')\n",
    "new_df = df.copy()\n",
    "new_df = new_df.drop([49, 99])\n",
    "print(new_df)"
   ]
  },
  {
   "cell_type": "code",
   "execution_count": 6,
   "id": "df3d43ac-e15f-442e-8e5c-b105540c38b5",
   "metadata": {},
   "outputs": [
    {
     "name": "stdout",
     "output_type": "stream",
     "text": [
      "     Price      KM    cc\n",
      "0    13500   46986  2000\n",
      "1    13750   72937  2000\n",
      "2    13950   41711  2000\n",
      "3    14950   48000  2000\n",
      "4    13750   38500  2000\n",
      "..     ...     ...   ...\n",
      "604   7900  204250  2000\n",
      "606   7500  190900  2000\n",
      "607   7500  183500  2000\n",
      "608   6900  176184  2000\n",
      "609   5751  174833  2000\n",
      "\n",
      "[100 rows x 3 columns]\n"
     ]
    }
   ],
   "source": [
    "new_df = df.copy()\n",
    "display_cols = ['Price', 'KM', 'cc']\n",
    "filtered_df = new_df.loc[new_df['cc'] > 1600, display_cols].head(100)\n",
    "print(filtered_df)"
   ]
  },
  {
   "cell_type": "code",
   "execution_count": null,
   "id": "61b09883-1b86-4af2-b826-2e0cce797157",
   "metadata": {},
   "outputs": [],
   "source": []
  },
  {
   "cell_type": "code",
   "execution_count": null,
   "id": "2b8fb4d7-4975-4110-b0ee-5e97a28e5665",
   "metadata": {},
   "outputs": [],
   "source": []
  },
  {
   "cell_type": "code",
   "execution_count": null,
   "id": "554f3896-f2f5-4ad6-a476-db2cb17f7be2",
   "metadata": {},
   "outputs": [],
   "source": []
  }
 ],
 "metadata": {
  "kernelspec": {
   "display_name": "Python 3 (ipykernel)",
   "language": "python",
   "name": "python3"
  },
  "language_info": {
   "codemirror_mode": {
    "name": "ipython",
    "version": 3
   },
   "file_extension": ".py",
   "mimetype": "text/x-python",
   "name": "python",
   "nbconvert_exporter": "python",
   "pygments_lexer": "ipython3",
   "version": "3.9.10"
  }
 },
 "nbformat": 4,
 "nbformat_minor": 5
}
