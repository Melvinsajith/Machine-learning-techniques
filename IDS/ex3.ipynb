{
 "cells": [
  {
   "cell_type": "code",
   "execution_count": null,
   "id": "82e02ee6-86d2-4b0e-adcc-94c97978cf86",
   "metadata": {},
   "outputs": [],
   "source": [
    "import numpy as np\n",
    "import matplotlib.pyplot as plt\n",
    "import seaborn as sns\n",
    "# Generate random numbers using linspace\n",
    "x = np.linspace(0, 10, 100)\n",
    "y = np.sin(x)\n",
    "# Create a simple plot\n",
    "plt.figure(figsize=(8, 6))\n",
    "plt.plot(x, y)\n",
    "# Adding elements to the plot\n",
    "plt.xlabel('X-axis')\n",
    "plt.ylabel('Y-axis')\n",
    "plt.xlim(0, 10)\n",
    "plt.ylim(-1, 1)\n",
    "plt.title('Simple Plot of Random Numbers')\n",
    "plt.show()"
   ]
  },
  {
   "cell_type": "code",
   "execution_count": null,
   "id": "42cd44e5-3c8b-4a80-9daf-fb588d762bd6",
   "metadata": {},
   "outputs": [],
   "source": [
    "import pandas as pd\n",
    "# Load Toyota dataset\n",
    "toyota = pd.read_csv('ToyotaCorolla.csv')\n",
    "fig, axs = plt.subplots(2, 2, figsize=(10, 10))\n",
    "# 1. Plot the data points where the KM range from 20000 to 40000\n",
    "subset = toyota[(toyota['KM'] >= 20000) & (toyota['KM'] <= 40000)]\n",
    "axs[0, 0].scatter(subset['KM'], subset['Price'])\n",
    "axs[0, 0].set_title('KM range 20000 to 40000')\n",
    "\n",
    "# 2. Plot the relationship between Age and KM\n",
    "axs[0, 1].scatter(toyota['Age_08_04'], toyota['KM'])\n",
    "axs[0, 1].set_title('Relationship between Age and KM')\n",
    "# 3. Plot the quantity (counts) based on fuel type\n",
    "fuel_counts = toyota['Fuel_Type'].value_counts()\n",
    "axs[1, 0].bar(fuel_counts.index, fuel_counts.values)\n",
    "axs[1, 0].set_title('Quantity based on Fuel Type')\n",
    "# 4. Plot the summary of the age attribute\n",
    "axs[1, 1].hist(toyota['Age_08_04'], bins=15)\n",
    "axs[1, 1].set_title('Summary of Age')\n",
    "plt.tight_layout()\n",
    "plt.show()\n"
   ]
  },
  {
   "cell_type": "code",
   "execution_count": null,
   "id": "c4c340ca-06aa-4f5b-a8c6-1966b467cd76",
   "metadata": {},
   "outputs": [],
   "source": [
    "import numpy as np\n",
    "import matplotlib.pyplot as plt\n",
    "\n",
    "x_data = np.random.random(50)*1000\n",
    "y_data = np.random.random(50)*1000\n",
    "\n",
    "plt.scatter(x_data,y_data,c=\"red\",s=100)\n",
    "\n",
    "plt.show()"
   ]
  },
  {
   "cell_type": "code",
   "execution_count": null,
   "id": "e3137629-7db8-472d-b5a9-c9a04fe2cfe1",
   "metadata": {},
   "outputs": [],
   "source": [
    "plt.scatter(subset['KM'], subset['Price'])\n",
    "plt.show()"
   ]
  },
  {
   "cell_type": "code",
   "execution_count": null,
   "id": "8840d259-f97a-452d-a08a-65b49e51923f",
   "metadata": {},
   "outputs": [],
   "source": [
    "yers = [2006 +x for x in range(18)]\n",
    "weight = [45 , 48, 50 ,51,53 ,55,56,57,60,64,68,66 ,64, 60 ,59 , 58 ,57 , 60]\n",
    "print(yers)\n",
    "\n",
    "plt.plot(yers,weight, c=\"g\")\n",
    "\n",
    "plt.show()"
   ]
  },
  {
   "cell_type": "code",
   "execution_count": null,
   "id": "68fea45f-b518-4a66-992c-06eaa00f513e",
   "metadata": {},
   "outputs": [],
   "source": [
    "x = [\"C++\",\"python\",\"C\",\"java\"]\n",
    "y = [20,25,15,10]\n",
    "\n",
    "plt.bar(x,y,color =\"red\")\n",
    "\n",
    "plt.show()"
   ]
  },
  {
   "cell_type": "code",
   "execution_count": null,
   "id": "da884a71-cc48-4ecc-84a0-c5065a21cd97",
   "metadata": {},
   "outputs": [],
   "source": [
    "ages = np.random.normal(20,1.5,1000)\n",
    "\n",
    "plt.hist(ages)\n",
    "\n",
    "plt.show()"
   ]
  },
  {
   "cell_type": "code",
   "execution_count": null,
   "id": "e1e34d11-a74d-4f29-a538-0c86e2eeb277",
   "metadata": {},
   "outputs": [],
   "source": [
    "x = [\"C++\",\"python\",\"C\",\"java\"]\n",
    "vots = [25,50,14,4]\n",
    "\n",
    "plt.pie(vots,labels=x,autopct=\"%.2f%%\")"
   ]
  },
  {
   "cell_type": "code",
   "execution_count": null,
   "id": "0516f043-93cf-4c74-848b-791e21025ed1",
   "metadata": {},
   "outputs": [],
   "source": [
    "hights =np.random.normal(172,8,300)"
   ]
  },
  {
   "cell_type": "code",
   "execution_count": null,
   "id": "574a6e0e-41d2-49a4-aa85-d8a9284d74de",
   "metadata": {},
   "outputs": [],
   "source": [
    "hights\n",
    "plt.boxplot(hights)\n",
    "plt.show()"
   ]
  },
  {
   "cell_type": "code",
   "execution_count": null,
   "id": "2d82962b-e271-48f3-b89f-6d89b1243280",
   "metadata": {},
   "outputs": [],
   "source": [
    "fuel_price = toyota.groupby('Fuel_Type')['Price'].mean()\n",
    "fuel_price.plot(kind='bar')\n",
    "plt.xlabel('Price')\n",
    "plt.ylabel('Fuel Type')\n",
    "plt.title('Fuel Type and Average Price')\n",
    "plt.show()"
   ]
  },
  {
   "cell_type": "code",
   "execution_count": null,
   "id": "3af3cfa7-ef46-4fd0-aa6d-f3ec82733c59",
   "metadata": {},
   "outputs": [],
   "source": [
    "toyota['new_price'] = toyota['Price'] * 0.9\n",
    "# Plotting stacked bar chart\n",
    "age_price = toyota.groupby('Age_08_04')[['Price', 'new_price']].sum()\n",
    "age_price.plot(kind='bar')\n",
    "plt.xlabel('Age')\n",
    "plt.ylabel('Price')\n",
    "plt.title('Stacked Bar Chart for Price and New Price against Age')\n",
    "plt.show()"
   ]
  },
  {
   "cell_type": "code",
   "execution_count": null,
   "id": "babdb15a-2fa2-4593-9d91-3693b3341e52",
   "metadata": {},
   "outputs": [],
   "source": [
    "import seaborn as sns\n",
    "import pandas as pd\n",
    "import matplotlib.pyplot as plt\n",
    "# Load the candy dataset\n",
    "candy = pd.read_csv('candy.csv')\n",
    "# Violin plot for Sugarpercent, Pricepercent, and Winpercent\n",
    "plt.figure(figsize=(12, 6))\n",
    "sns.violinplot(data=candy[['sugarpercent', 'pricepercent', 'winpercent']])\n",
    "plt.title('Violin Plot for Sugarpercent, Pricepercent, and Winpercent')\n",
    "plt.show()\n"
   ]
  },
  {
   "cell_type": "code",
   "execution_count": null,
   "id": "4c94f5d4-9cf7-4248-9f91-bbd90d53069d",
   "metadata": {},
   "outputs": [],
   "source": [
    "plt.figure(figsize=(12, 6))\n",
    "sns.stripplot(data=candy[['sugarpercent', 'pricepercent', 'winpercent']], jitter\n",
    "plt.title('Strip Plot for Sugarpercent, Pricepercent, and Winpercent')\n",
    "plt.show()"
   ]
  },
  {
   "cell_type": "code",
   "execution_count": null,
   "id": "bc5687e0-5039-4485-8804-caaa377f442d",
   "metadata": {},
   "outputs": [],
   "source": []
  },
  {
   "cell_type": "code",
   "execution_count": null,
   "id": "d7551f8e-7c14-4cb8-b362-67b3bec60e7f",
   "metadata": {},
   "outputs": [],
   "source": []
  },
  {
   "cell_type": "code",
   "execution_count": null,
   "id": "50d904a9-7bb2-4cb9-87f1-83a594b3cd1a",
   "metadata": {},
   "outputs": [],
   "source": []
  },
  {
   "cell_type": "code",
   "execution_count": null,
   "id": "2f35e3ba-1a27-4096-a35e-377fe76322c7",
   "metadata": {},
   "outputs": [],
   "source": []
  },
  {
   "cell_type": "code",
   "execution_count": null,
   "id": "405c59b0-58a6-4f3d-8827-265ba5d990f9",
   "metadata": {},
   "outputs": [],
   "source": []
  }
 ],
 "metadata": {
  "kernelspec": {
   "display_name": "Python 3 (ipykernel)",
   "language": "python",
   "name": "python3"
  },
  "language_info": {
   "codemirror_mode": {
    "name": "ipython",
    "version": 3
   },
   "file_extension": ".py",
   "mimetype": "text/x-python",
   "name": "python",
   "nbconvert_exporter": "python",
   "pygments_lexer": "ipython3",
   "version": "3.9.10"
  }
 },
 "nbformat": 4,
 "nbformat_minor": 5
}
