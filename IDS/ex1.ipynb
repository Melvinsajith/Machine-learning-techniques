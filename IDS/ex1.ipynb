{
 "cells": [
  {
   "cell_type": "code",
   "execution_count": 1,
   "id": "d11c161a-ae6a-43cf-b1d4-e9dde57aa486",
   "metadata": {},
   "outputs": [
    {
     "name": "stdin",
     "output_type": "stream",
     "text": [
      "Enter the number of books needed:  2\n",
      "Enter the book name:  rich dad\n",
      "Enter the book id:  102\n",
      "Enter the book name:  atomic\n",
      "Enter the book id:  103\n"
     ]
    },
    {
     "name": "stdout",
     "output_type": "stream",
     "text": [
      "{102: 'rich dad', 103: 'atomic'}\n"
     ]
    },
    {
     "name": "stdin",
     "output_type": "stream",
     "text": [
      "Enter the id to be searched:  102\n"
     ]
    },
    {
     "name": "stdout",
     "output_type": "stream",
     "text": [
      "The name of the book for the id 102 is:  rich dad\n"
     ]
    }
   ],
   "source": [
    "dict={}\n",
    "n = int(input(\"Enter the number of books needed: \"))\n",
    "for i in range(n):\n",
    "    book_name = input(\"Enter the book name: \")\n",
    "    book_id = int(input(\"Enter the book id: \"))\n",
    "    dict[book_id] = book_name\n",
    "\n",
    "print(dict)\n",
    "\n",
    "a = int(input(\"Enter the id to be searched: \"))\n",
    "print(\"The name of the book for the id\",a,\"is: \",dict[a])"
   ]
  },
  {
   "cell_type": "code",
   "execution_count": 8,
   "id": "ac0cc9a1-e1d9-426b-a7af-9fc430492f6e",
   "metadata": {},
   "outputs": [
    {
     "data": {
      "text/plain": [
       "dict"
      ]
     },
     "execution_count": 8,
     "metadata": {},
     "output_type": "execute_result"
    }
   ],
   "source": [
    "d1 = {102: 'rich dad', 103: 'atomic'}\n",
    "type(d1)"
   ]
  },
  {
   "cell_type": "code",
   "execution_count": 2,
   "id": "244478be-8ae3-426f-b3c0-316b68b187fc",
   "metadata": {},
   "outputs": [
    {
     "name": "stdin",
     "output_type": "stream",
     "text": [
      "Enter the number of strings needed:  3\n",
      "Enter the string:  a2b\n",
      "Enter the string:  112\n",
      "Enter the string:  bb\n"
     ]
    },
    {
     "name": "stdout",
     "output_type": "stream",
     "text": [
      "\n",
      "['a2b', '112', 'bb']\n",
      "\n",
      "The number of strings where the string length is 2 or more and the first and last character are:  1\n"
     ]
    }
   ],
   "source": [
    "list=[]\n",
    "num = int(input(\"Enter the number of strings needed: \"))\n",
    "ct = 0\n",
    "for i in range(num):\n",
    "    s=input(\"Enter the string: \")\n",
    "    list.append(s)\n",
    "print()\n",
    "print(list)\n",
    "print()\n",
    "for j in list:\n",
    "    if len(j) >= 2 and j[0]==j[-1]:\n",
    "        ct+=1\n",
    "print(\"The number of strings where the string length is 2 or more and the first and last character are: \",ct)"
   ]
  },
  {
   "cell_type": "code",
   "execution_count": 9,
   "id": "84b07ee6-5f04-4de8-a397-f49f132506b2",
   "metadata": {},
   "outputs": [
    {
     "name": "stdin",
     "output_type": "stream",
     "text": [
      "Enter the number of data needed:  3\n",
      "Enter the data:  e\n",
      "Enter the data:  y\n",
      "Enter the data:  u\n"
     ]
    },
    {
     "name": "stdout",
     "output_type": "stream",
     "text": [
      "{'u', 'e', 'y'}\n",
      "Union : {'u', 'McArthur', 'Wilson', 'Smith', 'e', 'Johansson', 'y'}\n",
      "\n",
      "Intersection : set()\n",
      "\n",
      "Difference : {'Johansson', 'McArthur', 'Wilson', 'Smith'}\n"
     ]
    }
   ],
   "source": [
    "d1={'Smith', 'McArthur', 'Wilson', 'Johansson'}\n",
    "d2 = set()\n",
    "num = int(input(\"Enter the number of data needed: \"))\n",
    "for i in range(num) :\n",
    "    data = input(\"Enter the data: \")\n",
    "    d2.add(data)\n",
    "print(d2)\n",
    "\n",
    "# union \n",
    "print(\"Union :\",  d1| d2) \n",
    "print()\n",
    "# intersection \n",
    "print(\"Intersection :\", d1 & d2) \n",
    "print()  \n",
    "# difference \n",
    "print(\"Difference :\", d1 - d2) "
   ]
  },
  {
   "cell_type": "code",
   "execution_count": 4,
   "id": "e1a3a277-0fbc-47fc-b7ab-98dd94147eef",
   "metadata": {},
   "outputs": [
    {
     "name": "stdin",
     "output_type": "stream",
     "text": [
      "Enter the number of elements needed:  3\n",
      "Enter the data:  10\n",
      "Enter the data:  20\n",
      "Enter the data:  30\n"
     ]
    },
    {
     "name": "stdout",
     "output_type": "stream",
     "text": [
      "The sum of the tuple elements is: 60\n"
     ]
    }
   ],
   "source": [
    "t = ()\n",
    "n = int(input(\"Enter the number of elements needed: \"))\n",
    "for i in range(n):\n",
    "    data = int(input(\"Enter the data: \"))  \n",
    "    t = t + (data,)\n",
    "sum_of_elements = sum(t)\n",
    "print(\"The sum of the tuple elements is:\", sum_of_elements)\n"
   ]
  },
  {
   "cell_type": "code",
   "execution_count": 6,
   "id": "147d3761-b4e8-4864-a769-b28be98cbcf7",
   "metadata": {},
   "outputs": [
    {
     "name": "stdout",
     "output_type": "stream",
     "text": [
      "Matrix 1:\n",
      "[[1 2 3]\n",
      " [4 5 6]]\n",
      "\n",
      "Matrix 2:\n",
      "[[ 7  8  9]\n",
      " [10 11 12]]\n",
      "\n",
      "Matrix Addition Result:\n",
      "[[ 8 10 12]\n",
      " [14 16 18]]\n",
      "\n",
      "Matrix Division Result:\n",
      "[[0.14285714 0.25       0.33333333]\n",
      " [0.4        0.45454545 0.5       ]]\n"
     ]
    }
   ],
   "source": [
    "import numpy as np\n",
    "\n",
    "matrix1 = np.array([[1, 2, 3], [4, 5, 6]])\n",
    "matrix2 = np.array([[7, 8, 9], [10, 11, 12]])\n",
    "\n",
    "addition_result = matrix1 + matrix2\n",
    "\n",
    "division_result = matrix1 / matrix2\n",
    "\n",
    "print(\"Matrix 1:\")\n",
    "print(matrix1)\n",
    "\n",
    "print(\"\\nMatrix 2:\")\n",
    "print(matrix2)\n",
    "\n",
    "print(\"\\nMatrix Addition Result:\")\n",
    "print(addition_result)\n",
    "\n",
    "print(\"\\nMatrix Division Result:\")\n",
    "print(division_result)\n"
   ]
  },
  {
   "cell_type": "code",
   "execution_count": null,
   "id": "94366318-cefd-4f99-99fd-bc54af895486",
   "metadata": {},
   "outputs": [],
   "source": []
  }
 ],
 "metadata": {
  "kernelspec": {
   "display_name": "Python 3 (ipykernel)",
   "language": "python",
   "name": "python3"
  },
  "language_info": {
   "codemirror_mode": {
    "name": "ipython",
    "version": 3
   },
   "file_extension": ".py",
   "mimetype": "text/x-python",
   "name": "python",
   "nbconvert_exporter": "python",
   "pygments_lexer": "ipython3",
   "version": "3.9.10"
  }
 },
 "nbformat": 4,
 "nbformat_minor": 5
}
