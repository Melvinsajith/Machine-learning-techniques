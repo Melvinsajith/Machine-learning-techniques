{
 "cells": [
  {
   "cell_type": "code",
   "execution_count": 50,
   "id": "5f0bb0e6-7230-447e-a06b-750f47224dd4",
   "metadata": {},
   "outputs": [],
   "source": [
    "import torch\n",
    "import torch.nn as nn\n",
    "import torch.optim as optim\n",
    "from sklearn.model_selection import train_test_split\n",
    "from sklearn.preprocessing import StandardScaler\n",
    "import pandas as pd\n",
    "import numpy as np\n",
    "from sklearn.metrics import confusion_matrix, accuracy_score, precision_score, recall_score, f1_score\n",
    "import matplotlib.pyplot as plt\n",
    "from torch.utils.data import TensorDataset, DataLoader\n"
   ]
  },
  {
   "cell_type": "code",
   "execution_count": 28,
   "id": "744519c1-5693-434d-b86b-7cf91f04ffff",
   "metadata": {},
   "outputs": [],
   "source": [
    "data = pd.read_csv('wine.csv')\n",
    "\n",
    "X = data.iloc[:, 1:].values  \n",
    "y = data.iloc[:, 0].values \n",
    "\n",
    "y = y - 1 "
   ]
  },
  {
   "cell_type": "code",
   "execution_count": 29,
   "id": "b5832555-0896-45cc-abce-8eecfddec0c0",
   "metadata": {},
   "outputs": [],
   "source": [
    "scaler = StandardScaler()\n",
    "X = scaler.fit_transform(X)\n"
   ]
  },
  {
   "cell_type": "code",
   "execution_count": 30,
   "id": "9a71e6cb-ebda-455b-9a44-f0b42b12278d",
   "metadata": {},
   "outputs": [],
   "source": [
    "X_train, X_test, y_train, y_test = train_test_split(X, y, test_size=0.2, random_state=42)"
   ]
  },
  {
   "cell_type": "code",
   "execution_count": 31,
   "id": "c4ec3415-0642-4398-857c-f9b52b4b3d69",
   "metadata": {},
   "outputs": [],
   "source": [
    "X_train, X_test = torch.tensor(X_train, dtype=torch.float32), torch.tensor(X_test, dtype=torch.float32)\n",
    "y_train, y_test = torch.tensor(y_train, dtype=torch.long), torch.tensor(y_test, dtype=torch.long)"
   ]
  },
  {
   "cell_type": "code",
   "execution_count": 32,
   "id": "c95d88f1-11c2-4402-bf99-03020575aff5",
   "metadata": {},
   "outputs": [],
   "source": [
    "class MLPClassifier(nn.Module):\n",
    "    def __init__(self):\n",
    "        super(MLPClassifier, self).__init__()\n",
    "        self.fc1 = nn.Linear(13, 64)  \n",
    "        self.fc2 = nn.Linear(64, 32)  \n",
    "        self.fc3 = nn.Linear(32, 3)  \n",
    "        self.relu = nn.ReLU()         \n",
    "\n",
    "    def forward(self, x):\n",
    "        x = self.relu(self.fc1(x))  \n",
    "        x = self.relu(self.fc2(x))  \n",
    "        x = self.fc3(x)  \n",
    "        return x"
   ]
  },
  {
   "cell_type": "code",
   "execution_count": 33,
   "id": "d8dbf142-bd12-4782-a2ac-7b90ac0790d8",
   "metadata": {},
   "outputs": [],
   "source": [
    "device = torch.device(\"cuda\" if torch.cuda.is_available() else \"cpu\")\n",
    "model = MLPClassifier().to(device)"
   ]
  },
  {
   "cell_type": "code",
   "execution_count": 34,
   "id": "0f5aabfe-9cb9-4c5c-a020-49ec94a4fac4",
   "metadata": {},
   "outputs": [],
   "source": [
    "loss_values = []\n",
    "\n",
    "# Define loss function and optimizer\n",
    "criterion = nn.CrossEntropyLoss()\n",
    "optimizer = optim.Adam(model.parameters(), lr=0.01)\n"
   ]
  },
  {
   "cell_type": "code",
   "execution_count": 35,
   "id": "69ad19ba-ab99-4340-8dd0-286600e58ebd",
   "metadata": {},
   "outputs": [],
   "source": [
    "X_train, y_train = X_train.to(device), y_train.to(device)\n",
    "X_test, y_test = X_test.to(device), y_test.to(device)\n"
   ]
  },
  {
   "cell_type": "code",
   "execution_count": 36,
   "id": "7c3df760-4bf7-47a2-9da8-669f153adf09",
   "metadata": {},
   "outputs": [
    {
     "name": "stdout",
     "output_type": "stream",
     "text": [
      "Epoch [10/30], Loss: 0.1439\n",
      "Epoch [20/30], Loss: 0.0044\n",
      "Epoch [30/30], Loss: 0.0003\n"
     ]
    }
   ],
   "source": [
    "num_epochs = 30\n",
    "for epoch in range(num_epochs):\n",
    "    model.train()  \n",
    "    \n",
    "    optimizer.zero_grad()  \n",
    "    outputs = model(X_train)  \n",
    "    loss = criterion(outputs, y_train)  \n",
    "    loss.backward()  \n",
    "    optimizer.step()  \n",
    "\n",
    "    loss_values.append(loss.item())  \n",
    "    \n",
    "    if (epoch + 1) % 10 == 0:\n",
    "        print(f\"Epoch [{epoch+1}/{num_epochs}], Loss: {loss.item():.4f}\")\n"
   ]
  },
  {
   "cell_type": "code",
   "execution_count": 37,
   "id": "13658f9d-2379-40ae-923f-99bd5b713d43",
   "metadata": {},
   "outputs": [],
   "source": [
    "model.eval()\n",
    "with torch.no_grad():\n",
    "    outputs = model(X_test)  \n",
    "    _, predicted = torch.max(outputs, 1)  \n"
   ]
  },
  {
   "cell_type": "code",
   "execution_count": 38,
   "id": "e85574a7-f569-40e9-ae1f-0c26f34f956e",
   "metadata": {},
   "outputs": [],
   "source": [
    "y_test_np = y_test.cpu().numpy()\n",
    "predicted_np = predicted.cpu().numpy()\n"
   ]
  },
  {
   "cell_type": "code",
   "execution_count": 39,
   "id": "4062196f-6406-4d78-89fa-afb2615574a2",
   "metadata": {},
   "outputs": [
    {
     "name": "stdout",
     "output_type": "stream",
     "text": [
      "Confusion Matrix:\n",
      " [[14  0  0]\n",
      " [ 0 14  0]\n",
      " [ 0  0  8]]\n",
      "Accuracy: 100.00%\n",
      "Precision: 1.00\n",
      "Recall: 1.00\n",
      "F1-Score: 1.00\n"
     ]
    }
   ],
   "source": [
    "conf_matrix = confusion_matrix(y_test_np, predicted_np)\n",
    "accuracy = accuracy_score(y_test_np, predicted_np)\n",
    "precision = precision_score(y_test_np, predicted_np, average='macro')\n",
    "recall = recall_score(y_test_np, predicted_np, average='macro')\n",
    "f1 = f1_score(y_test_np, predicted_np, average='macro')\n",
    "\n",
    "# Print Results\n",
    "print(\"Confusion Matrix:\\n\", conf_matrix)\n",
    "print(f\"Accuracy: {accuracy * 100:.2f}%\")\n",
    "print(f\"Precision: {precision:.2f}\")\n",
    "print(f\"Recall: {recall:.2f}\")\n",
    "print(f\"F1-Score: {f1:.2f}\")"
   ]
  },
  {
   "cell_type": "code",
   "execution_count": 40,
   "id": "d55aca3e-0bde-44b5-b4d4-46f3c7a4e40d",
   "metadata": {},
   "outputs": [
    {
     "data": {
      "image/png": "[encoded data removed]",
      "text/plain": [
       "<Figure size 800x500 with 1 Axes>"
      ]
     },
     "metadata": {},
     "output_type": "display_data"
    }
   ],
   "source": [
    "plt.figure(figsize=(8, 5))\n",
    "plt.plot(range(1, num_epochs + 1), loss_values, label=\"Training Loss\", color='b')\n",
    "plt.xlabel(\"Epochs\")\n",
    "plt.ylabel(\"Loss\")\n",
    "plt.title(\"Training Loss Curve\")\n",
    "plt.legend()\n",
    "plt.grid()\n",
    "plt.show()"
   ]
  },
  {
   "cell_type": "code",
   "execution_count": null,
   "id": "e13c1bc9-35e0-4141-8288-a81cb6b6aa64",
   "metadata": {},
   "outputs": [],
   "source": []
  },
  {
   "cell_type": "code",
   "execution_count": 51,
   "id": "1de77175-ac8a-4658-950e-16bff771eb48",
   "metadata": {},
   "outputs": [],
   "source": [
    "train_dataset = TensorDataset(X_train, y_train)"
   ]
  },
  {
   "cell_type": "code",
   "execution_count": 52,
   "id": "951dcd8d-dc03-4f8c-96a2-9ffb06a0415c",
   "metadata": {},
   "outputs": [],
   "source": [
    "batch_size = 32\n",
    "train_loader = DataLoader(train_dataset, batch_size=batch_size, shuffle=True)\n"
   ]
  },
  {
   "cell_type": "code",
   "execution_count": 41,
   "id": "88f45c22-089c-47a9-aaad-1e0786e86cf9",
   "metadata": {},
   "outputs": [],
   "source": [
    "class MLPRegressor(nn.Module):\n",
    "    def __init__(self):\n",
    "        super(MLPRegressor, self).__init__()\n",
    "        self.fc1 = nn.Linear(13, 64)  \n",
    "        self.fc2 = nn.Linear(64, 32)  \n",
    "        self.fc3 = nn.Linear(32, 1)   \n",
    "        self.relu = nn.ReLU()         \n",
    "\n",
    "    def forward(self, x):\n",
    "        x = self.relu(self.fc1(x))  \n",
    "        x = self.relu(self.fc2(x))  \n",
    "        x = self.fc3(x)  \n",
    "        return x"
   ]
  },
  {
   "cell_type": "code",
   "execution_count": 42,
   "id": "60d45389-a88f-47c6-88a6-cfd2c13a5d19",
   "metadata": {},
   "outputs": [],
   "source": [
    "model_reg = MLPRegressor().to(device)"
   ]
  },
  {
   "cell_type": "code",
   "execution_count": 43,
   "id": "751a08d1-c51a-4359-be4c-dbd5c84d0283",
   "metadata": {},
   "outputs": [],
   "source": [
    "loss_values_reg = []\n"
   ]
  },
  {
   "cell_type": "code",
   "execution_count": 44,
   "id": "6aea06d6-976c-4b13-9ec3-029d2b7f965f",
   "metadata": {},
   "outputs": [],
   "source": [
    "criterion_reg = nn.MSELoss()\n",
    "optimizer_reg = optim.Adam(model_reg.parameters(), lr=0.01)\n"
   ]
  },
  {
   "cell_type": "code",
   "execution_count": 53,
   "id": "ea8de18e-a4fd-43b9-9609-6850fe300001",
   "metadata": {},
   "outputs": [
    {
     "name": "stdout",
     "output_type": "stream",
     "text": [
      "Epoch [10/100], Loss: 0.0012\n",
      "Epoch [20/100], Loss: 0.0028\n",
      "Epoch [30/100], Loss: 0.0023\n",
      "Epoch [40/100], Loss: 0.0006\n",
      "Epoch [50/100], Loss: 0.0003\n",
      "Epoch [60/100], Loss: 0.0002\n",
      "Epoch [70/100], Loss: 0.0010\n",
      "Epoch [80/100], Loss: 0.0009\n",
      "Epoch [90/100], Loss: 0.0015\n",
      "Epoch [100/100], Loss: 0.0004\n"
     ]
    }
   ],
   "source": [
    "num_epochs = 100\n",
    "loss_values_reg = []  \n",
    "\n",
    "for epoch in range(num_epochs):\n",
    "    model_reg.train()  \n",
    "    epoch_loss = 0.0  \n",
    "    for inputs, labels in train_loader:  \n",
    "        inputs, labels = inputs.to(device), labels.to(device)\n",
    "        optimizer_reg.zero_grad()  \n",
    "        outputs = model_reg(inputs)  \n",
    "        loss = criterion_reg(outputs, labels.float().unsqueeze(1))  \n",
    "        loss.backward()  \n",
    "        optimizer_reg.step()  \n",
    "        epoch_loss += loss.item()  \n",
    "    epoch_loss /= len(train_loader)\n",
    "    loss_values_reg.append(epoch_loss)  \n",
    "    if (epoch + 1) % 10 == 0:\n",
    "        print(f\"Epoch [{epoch+1}/{num_epochs}], Loss: {epoch_loss:.4f}\")"
   ]
  },
  {
   "cell_type": "code",
   "execution_count": 54,
   "id": "9fd28335-6256-45cb-aba3-64c44b368e04",
   "metadata": {},
   "outputs": [
    {
     "name": "stdout",
     "output_type": "stream",
     "text": [
      "Test MSE: 0.0187\n"
     ]
    }
   ],
   "source": [
    "model_reg.eval()\n",
    "with torch.no_grad():\n",
    "    outputs = model_reg(X_test)  # Forward pass\n",
    "    mse = criterion_reg(outputs, y_test.float().unsqueeze(1))\n",
    "    print(f\"Test MSE: {mse.item():.4f}\")\n"
   ]
  },
  {
   "cell_type": "code",
   "execution_count": 55,
   "id": "97da39f7-005e-4a80-9e6a-ebb12f18a494",
   "metadata": {},
   "outputs": [
    {
     "data": {
      "image/png": "[encoded data removed]",
      "text/plain": [
       "<Figure size 800x500 with 1 Axes>"
      ]
     },
     "metadata": {},
     "output_type": "display_data"
    }
   ],
   "source": [
    "plt.figure(figsize=(8, 5))\n",
    "plt.plot(range(1, num_epochs + 1), loss_values_reg, label=\"Training Loss\", color='r')\n",
    "plt.xlabel(\"Epochs\")\n",
    "plt.ylabel(\"Loss\")\n",
    "plt.title(\"Training Loss Curve (Regression)\")\n",
    "plt.legend()\n",
    "plt.grid()\n",
    "plt.show()"
   ]
  },
  {
   "cell_type": "code",
   "execution_count": 56,
   "id": "33e751c8-615a-465b-b4b4-9f451b615693",
   "metadata": {},
   "outputs": [
    {
     "name": "stdout",
     "output_type": "stream",
     "text": [
      "Epoch [10/100], Loss: 1.0899\n",
      "Epoch [20/100], Loss: 1.0740\n",
      "Epoch [30/100], Loss: 1.0551\n",
      "Epoch [40/100], Loss: 1.0354\n",
      "Epoch [50/100], Loss: 1.0151\n",
      "Epoch [60/100], Loss: 0.9943\n",
      "Epoch [70/100], Loss: 0.9729\n",
      "Epoch [80/100], Loss: 0.9507\n",
      "Epoch [90/100], Loss: 0.9275\n",
      "Epoch [100/100], Loss: 0.9032\n",
      "Test Accuracy after tuning: 88.89%\n"
     ]
    }
   ],
   "source": [
    "\n",
    "hidden_size = 128\n",
    "learning_rate = 0.001\n",
    "momentum = 0.9\n",
    "\n",
    "model = MLPClassifier().to(device)\n",
    "optimizer = optim.SGD(model.parameters(), lr=learning_rate, momentum=momentum)\n",
    "\n",
    "for epoch in range(num_epochs):\n",
    "    model.train()\n",
    "    optimizer.zero_grad()\n",
    "    outputs = model(X_train)\n",
    "    loss = criterion(outputs, y_train)\n",
    "    loss.backward()\n",
    "    optimizer.step()\n",
    "    \n",
    "    if (epoch + 1) % 10 == 0:\n",
    "        print(f\"Epoch [{epoch+1}/{num_epochs}], Loss: {loss.item():.4f}\")\n",
    "\n",
    "model.eval()\n",
    "with torch.no_grad():\n",
    "    outputs = model(X_test)\n",
    "    _, predicted = torch.max(outputs, 1)\n",
    "    accuracy = accuracy_score(y_test.cpu().numpy(), predicted.cpu().numpy())\n",
    "    print(f\"Test Accuracy after tuning: {accuracy * 100:.2f}%\")"
   ]
  },
  {
   "cell_type": "code",
   "execution_count": null,
   "id": "07cd5f2a-5f9f-4535-a931-0e5518f725ac",
   "metadata": {},
   "outputs": [],
   "source": []
  }
 ],
 "metadata": {
  "kernelspec": {
   "display_name": "Python 3 (ipykernel)",
   "language": "python",
   "name": "python3"
  },
  "language_info": {
   "codemirror_mode": {
    "name": "ipython",
    "version": 3
   },
   "file_extension": ".py",
   "mimetype": "text/x-python",
   "name": "python",
   "nbconvert_exporter": "python",
   "pygments_lexer": "ipython3",
   "version": "3.12.0"
  }
 },
 "nbformat": 4,
 "nbformat_minor": 5
}
